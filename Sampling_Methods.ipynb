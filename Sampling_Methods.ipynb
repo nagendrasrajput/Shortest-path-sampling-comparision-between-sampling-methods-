{
  "nbformat": 4,
  "nbformat_minor": 0,
  "metadata": {
    "colab": {
      "name": "Sampling_Methods.ipynb",
      "provenance": [],
      "collapsed_sections": []
    },
    "kernelspec": {
      "name": "python3",
      "display_name": "Python 3"
    }
  },
  "cells": [
    {
      "cell_type": "code",
      "metadata": {
        "id": "5_BSMS33c1m1"
      },
      "source": [
        "!pip install ipython-autotime\n",
        "%load_ext autotime"
      ],
      "execution_count": null,
      "outputs": []
    },
    {
      "cell_type": "code",
      "metadata": {
        "id": "n9yMcm9kLI9J",
        "outputId": "ec51035d-81b0-4d58-bdd7-f1a0ce29ea92",
        "colab": {
          "base_uri": "https://localhost:8080/"
        }
      },
      "source": [
        "import time"
      ],
      "execution_count": null,
      "outputs": [
        {
          "output_type": "stream",
          "text": [
            "time: 1.18 ms\n"
          ],
          "name": "stdout"
        }
      ]
    },
    {
      "cell_type": "code",
      "metadata": {
        "id": "Yj2Wi1mO4wgf"
      },
      "source": [
        "!pip install littleballoffur --upgrade"
      ],
      "execution_count": null,
      "outputs": []
    },
    {
      "cell_type": "code",
      "metadata": {
        "id": "VmI349jX3eDB",
        "outputId": "ad8cf81b-6d03-45dc-abba-b62ba6ea3eaf",
        "colab": {
          "base_uri": "https://localhost:8080/"
        }
      },
      "source": [
        "import networkx as nx\n",
        "from littleballoffur import RandomWalkSampler\n",
        "from littleballoffur import SnowBallSampler\n",
        "from littleballoffur import RandomEdgeSamplerWithInduction\n",
        "from littleballoffur import ForestFireSampler\n",
        "from littleballoffur import ShortestPathSampler\n",
        "\n",
        "\n",
        "sampler1 = RandomWalkSampler()\n",
        "sampler2 = SnowBallSampler()\n",
        "sampler3 = RandomEdgeSamplerWithInduction()\n",
        "sampler4 = ForestFireSampler()\n",
        "sampler6 = ShortestPathSampler()\n",
        "\n"
      ],
      "execution_count": null,
      "outputs": [
        {
          "output_type": "stream",
          "text": [
            "time: 3.71 ms\n"
          ],
          "name": "stdout"
        }
      ]
    },
    {
      "cell_type": "code",
      "metadata": {
        "id": "KHa7Wrt5JqHS",
        "outputId": "ac4ffafd-a8a5-4549-a0d7-0ca070b6d3a8",
        "colab": {
          "base_uri": "https://localhost:8080/"
        }
      },
      "source": [
        "import random\n",
        "import networkx as nx\n",
        "import networkit as nk\n",
        "from typing import Union\n",
        "from littleballoffur.sampler import Sampler\n",
        "\n",
        "\n",
        "NKGraph = type(nk.graph.Graph())\n",
        "NXGraph = nx.classes.graph.Graph\n",
        "\n",
        "\n",
        "class ShortestPathSampler1(Sampler):\n",
        "   \n",
        "    def __init__(self, number_of_nodes: int=100, seed: int=42):\n",
        "        self.number_of_nodes = number_of_nodes\n",
        "        self.seed = seed\n",
        "        self._set_seed()\n",
        "\n",
        "    def _set_seed_set(self):\n",
        "        \"\"\"\n",
        "        Creating an initial set of nodes.\n",
        "        \"\"\"\n",
        "        self._nodes = set()\n",
        "\n",
        "    def _sample_a_node(self, graph):\n",
        "        \"\"\"\n",
        "        Sampling a random node.\n",
        "        \"\"\"\n",
        "        return random.choice(range(self.backend.get_number_of_nodes(graph)))\n",
        "\n",
        "    def _sample_a_pair(self, graph):\n",
        "        \"\"\"\n",
        "        Sampling a pair of nodes for a shortest path.\n",
        "        \"\"\"\n",
        "        source = self._sample_a_node(graph)\n",
        "        target = self._sample_a_node(graph)\n",
        "        return source, target\n",
        "\n",
        "    def sample(self, graph: Union[NXGraph, NKGraph]) -> Union[NXGraph, NKGraph]:\n",
        "        self._deploy_backend(graph)\n",
        "        self._set_seed_set()\n",
        "        while len(self._nodes) < self.number_of_nodes:\n",
        "            source, target = self._sample_a_pair(graph)\n",
        "            if source != target:\n",
        "                path = nx.shortest_path(graph, source, target,method='dijkstra')\n",
        "                for node in path:\n",
        "                    self._nodes.add(node)\n",
        "                    if len(self._nodes) >= self.number_of_nodes:\n",
        "                        break\n",
        "\n",
        "        new_graph = self.backend.get_subgraph(graph, self._nodes)\n",
        "        return new_graph\n",
        "\n"
      ],
      "execution_count": null,
      "outputs": [
        {
          "output_type": "stream",
          "text": [
            "time: 40.9 ms\n"
          ],
          "name": "stdout"
        }
      ]
    },
    {
      "cell_type": "code",
      "metadata": {
        "id": "AScCiEGkM4pX",
        "outputId": "1d084d8c-ea85-46cf-f19e-2f78a25d7fe5",
        "colab": {
          "base_uri": "https://localhost:8080/"
        }
      },
      "source": [
        "import random\n",
        "import networkx as nx\n",
        "import networkit as nk\n",
        "from typing import Union\n",
        "from littleballoffur.sampler import Sampler\n",
        "\n",
        "\n",
        "NKGraph = type(nk.graph.Graph())\n",
        "NXGraph = nx.classes.graph.Graph\n",
        "\n",
        "\n",
        "class ShortestPathSampler2(Sampler):\n",
        "    def __init__(self, number_of_nodes: int=100, seed: int=42):\n",
        "        self.number_of_nodes = number_of_nodes\n",
        "        self.seed = seed\n",
        "        self._set_seed()\n",
        "\n",
        "    def _set_seed_set(self):\n",
        "        \"\"\"\n",
        "        Creating an initial set of nodes.\n",
        "        \"\"\"\n",
        "        self._nodes = set()\n",
        "\n",
        "    def _sample_a_node(self, graph):\n",
        "        \"\"\"\n",
        "        Sampling a random node.\n",
        "        \"\"\"\n",
        "        return random.choice(range(self.backend.get_number_of_nodes(graph)))\n",
        "\n",
        "    def _sample_a_pair(self, graph):\n",
        "        \"\"\"\n",
        "        Sampling a pair of nodes for a shortest path.\n",
        "        \"\"\"\n",
        "        source = self._sample_a_node(graph)\n",
        "        target = self._sample_a_node(graph)\n",
        "        return source, target\n",
        "\n",
        "    def sample(self, graph: Union[NXGraph, NKGraph]) -> Union[NXGraph, NKGraph]:\n",
        "       \n",
        "        self._deploy_backend(graph)\n",
        "        self._set_seed_set()\n",
        "        while len(self._nodes) < self.number_of_nodes:\n",
        "            source, target = self._sample_a_pair(graph)\n",
        "            if source != target:\n",
        "                path = nx.shortest_path(graph, source, target,method ='bellman-ford')\n",
        "                for node in path:\n",
        "                    self._nodes.add(node)\n",
        "                    if len(self._nodes) >= self.number_of_nodes:\n",
        "                        break\n",
        "\n",
        "        new_graph = self.backend.get_subgraph(graph, self._nodes)\n",
        "        return new_graph\n"
      ],
      "execution_count": null,
      "outputs": [
        {
          "output_type": "stream",
          "text": [
            "time: 21.4 ms\n"
          ],
          "name": "stdout"
        }
      ]
    },
    {
      "cell_type": "markdown",
      "metadata": {
        "id": "TRnj9onI5Y-_"
      },
      "source": [
        ">**Facebook Page Page Network**"
      ]
    },
    {
      "cell_type": "code",
      "metadata": {
        "id": "2hMA-470xrQJ",
        "outputId": "08e4d14b-6aff-47e3-fb7e-a779919adab1",
        "colab": {
          "base_uri": "https://localhost:8080/"
        }
      },
      "source": [
        "from littleballoffur import GraphReader\n",
        "reader = GraphReader(\"facebook\")\n",
        "g_fb = reader.get_graph()\n",
        "number_of_nodes_fb = int(0.1*g_fb.number_of_nodes())\n",
        "number_of_edges_fb = int(0.1*g_fb.number_of_edges())\n",
        "sampler1_fb = RandomWalkSampler(number_of_nodes=number_of_nodes_fb )\n",
        "sampler2_fb = SnowBallSampler(number_of_nodes=number_of_nodes_fb)\n",
        "sampler3_fb = RandomEdgeSamplerWithInduction(number_of_edges=number_of_edges_fb)\n",
        "sampler4_fb = ForestFireSampler(number_of_nodes=number_of_nodes_fb)\n",
        "sampler6_fb = ShortestPathSampler(number_of_nodes=number_of_nodes_fb)\n",
        "print(nx.transitivity(g_fb))\n"
      ],
      "execution_count": null,
      "outputs": [
        {
          "output_type": "stream",
          "text": [
            "0.23232143653859755\n",
            "time: 9.51 s\n"
          ],
          "name": "stdout"
        }
      ]
    },
    {
      "cell_type": "code",
      "metadata": {
        "id": "2GAg8dYWzfT1",
        "outputId": "3cf2a40b-30d6-4e4f-e07b-f223013d8cd7",
        "colab": {
          "base_uri": "https://localhost:8080/"
        }
      },
      "source": [
        "print(nx.info(g_fb))"
      ],
      "execution_count": null,
      "outputs": [
        {
          "output_type": "stream",
          "text": [
            "Name: \n",
            "Type: Graph\n",
            "Number of nodes: 22470\n",
            "Number of edges: 171002\n",
            "Average degree:  15.2205\n",
            "time: 48.1 ms\n"
          ],
          "name": "stdout"
        }
      ]
    },
    {
      "cell_type": "markdown",
      "metadata": {
        "id": "5B_laH5cXAM1"
      },
      "source": [
        "Random Walk Sampler"
      ]
    },
    {
      "cell_type": "code",
      "metadata": {
        "id": "r5btEweEacXI",
        "outputId": "5181d66f-7979-42ab-dfba-8282659d1335",
        "colab": {
          "base_uri": "https://localhost:8080/"
        }
      },
      "source": [
        "nw_fb =[]"
      ],
      "execution_count": null,
      "outputs": [
        {
          "output_type": "stream",
          "text": [
            "time: 1.15 ms\n"
          ],
          "name": "stdout"
        }
      ]
    },
    {
      "cell_type": "code",
      "metadata": {
        "id": "lk6geZSMWcgi",
        "outputId": "16c9a7ea-458d-45ce-fa1f-fc5722e64b7e",
        "colab": {
          "base_uri": "https://localhost:8080/"
        }
      },
      "source": [
        "tic = time.time()\n",
        "new_graph_fb= sampler1_fb.sample(g_fb)\n",
        "toc = time.time()\n",
        "nw_fb.append((toc-tic)*1000)\n"
      ],
      "execution_count": null,
      "outputs": [
        {
          "output_type": "stream",
          "text": [
            "time: 128 ms\n"
          ],
          "name": "stdout"
        }
      ]
    },
    {
      "cell_type": "code",
      "metadata": {
        "id": "V3o_lihPEg1S",
        "outputId": "3c64cb45-3697-4a47-b65e-10cd078853be",
        "colab": {
          "base_uri": "https://localhost:8080/"
        }
      },
      "source": [
        "print(nx.info(new_graph_fb))"
      ],
      "execution_count": null,
      "outputs": [
        {
          "output_type": "stream",
          "text": [
            "Name: \n",
            "Type: Graph\n",
            "Number of nodes: 2247\n",
            "Number of edges: 21970\n",
            "Average degree:  19.5550\n",
            "time: 163 ms\n"
          ],
          "name": "stdout"
        }
      ]
    },
    {
      "cell_type": "markdown",
      "metadata": {
        "id": "VoyGa2DuXseC"
      },
      "source": [
        "Snowball"
      ]
    },
    {
      "cell_type": "code",
      "metadata": {
        "id": "qf4DExzcXxLd",
        "outputId": "7bae8eac-c5af-4ff8-e126-f28d79575ef9",
        "colab": {
          "base_uri": "https://localhost:8080/"
        }
      },
      "source": [
        "tic = time.time()\n",
        "new_graph_fb_SB = sampler2_fb.sample(g_fb)\n",
        "toc = time.time()\n",
        "nw_fb.append((toc-tic)*1000)\n",
        "print(nx.info(new_graph_fb_SB))"
      ],
      "execution_count": null,
      "outputs": [
        {
          "output_type": "stream",
          "text": [
            "Name: \n",
            "Type: Graph\n",
            "Number of nodes: 2247\n",
            "Number of edges: 16923\n",
            "Average degree:  15.0628\n",
            "time: 222 ms\n"
          ],
          "name": "stdout"
        }
      ]
    },
    {
      "cell_type": "markdown",
      "metadata": {
        "id": "DB_i4xO2YUQm"
      },
      "source": [
        "Random-Edge with Induction\n"
      ]
    },
    {
      "cell_type": "code",
      "metadata": {
        "id": "WNgdSpdHYaO0",
        "outputId": "d508f854-797f-4254-8953-9b35f80fe172",
        "colab": {
          "base_uri": "https://localhost:8080/"
        }
      },
      "source": [
        "tic = time.time()\n",
        "new_graph_fb_RE = sampler3_fb.sample(g_fb)\n",
        "toc = time.time()\n",
        "nw_fb.append((toc-tic)*1000)\n",
        "print(nx.info(new_graph_fb_RE))"
      ],
      "execution_count": null,
      "outputs": [
        {
          "output_type": "stream",
          "text": [
            "Name: \n",
            "Type: Graph\n",
            "Number of nodes: 12061\n",
            "Number of edges: 128658\n",
            "Average degree:  21.3345\n",
            "time: 803 ms\n"
          ],
          "name": "stdout"
        }
      ]
    },
    {
      "cell_type": "markdown",
      "metadata": {
        "id": "fmcZEppTYsik"
      },
      "source": [
        "Forest-Fire"
      ]
    },
    {
      "cell_type": "code",
      "metadata": {
        "id": "JuPNsieMYxIZ",
        "outputId": "b2f63d1e-137d-42b6-e1be-bd9488a85df8",
        "colab": {
          "base_uri": "https://localhost:8080/"
        }
      },
      "source": [
        "tic = time.time()\n",
        "new_graph_fb_FF = sampler4_fb.sample(g_fb)\n",
        "toc = time.time()\n",
        "nw_fb.append((toc-tic)*1000)\n",
        "print(nx.info(new_graph_fb_FF))"
      ],
      "execution_count": null,
      "outputs": [
        {
          "output_type": "stream",
          "text": [
            "Name: \n",
            "Type: Graph\n",
            "Number of nodes: 2247\n",
            "Number of edges: 20889\n",
            "Average degree:  18.5928\n",
            "time: 321 ms\n"
          ],
          "name": "stdout"
        }
      ]
    },
    {
      "cell_type": "markdown",
      "metadata": {
        "id": "CvkslGDQXeWJ"
      },
      "source": [
        "SP-Dijkastra"
      ]
    },
    {
      "cell_type": "code",
      "metadata": {
        "id": "FbHFuGxy46qW",
        "outputId": "3c89401c-709e-43c5-c51c-3d83ab6e9034",
        "colab": {
          "base_uri": "https://localhost:8080/"
        }
      },
      "source": [
        "tic = time.time()\n",
        "samperr = ShortestPathSampler1(number_of_nodes=number_of_nodes_fb)\n",
        "n_graph_fb_SPD = samperr.sample(g_fb)\n",
        "toc = time.time()\n",
        "nw_fb.append((toc-tic)*1000)\n",
        "print(nx.info(n_graph_fb_SPD))"
      ],
      "execution_count": null,
      "outputs": [
        {
          "output_type": "stream",
          "text": [
            "Name: \n",
            "Type: Graph\n",
            "Number of nodes: 2247\n",
            "Number of edges: 9531\n",
            "Average degree:   8.4833\n",
            "time: 345 ms\n"
          ],
          "name": "stdout"
        }
      ]
    },
    {
      "cell_type": "markdown",
      "metadata": {
        "id": "14LBfcP3XjL5"
      },
      "source": [
        "SP-Bellman-Ford"
      ]
    },
    {
      "cell_type": "code",
      "metadata": {
        "id": "3SASrFYv4wP-",
        "outputId": "01c66c46-6665-45de-b2f2-0af9e366a1fa",
        "colab": {
          "base_uri": "https://localhost:8080/"
        }
      },
      "source": [
        "tic = time.time()\n",
        "samperr = ShortestPathSampler2(number_of_nodes=number_of_nodes_fb)\n",
        "n_graph_fb_SPB = samperr.sample(g_fb)\n",
        "toc = time.time()\n",
        "nw_fb.append((toc-tic)*1000)\n",
        "print(nx.info(n_graph_fb_SPB))"
      ],
      "execution_count": null,
      "outputs": [
        {
          "output_type": "stream",
          "text": [
            "Name: \n",
            "Type: Graph\n",
            "Number of nodes: 2247\n",
            "Number of edges: 9531\n",
            "Average degree:   8.4833\n",
            "time: 355 ms\n"
          ],
          "name": "stdout"
        }
      ]
    },
    {
      "cell_type": "code",
      "metadata": {
        "id": "2xmnYPJRFXoj",
        "outputId": "556cdce8-e6de-43de-bbf5-e607ad61d7ae",
        "colab": {
          "base_uri": "https://localhost:8080/"
        }
      },
      "source": [
        "import matplotlib\n",
        "import matplotlib.pyplot as plt\n",
        "import numpy as np\n",
        "labels = [0,1,2,3,4,5]"
      ],
      "execution_count": null,
      "outputs": [
        {
          "output_type": "stream",
          "text": [
            "time: 2.51 ms\n"
          ],
          "name": "stdout"
        }
      ]
    },
    {
      "cell_type": "code",
      "metadata": {
        "id": "7GjpbAamFXpG",
        "outputId": "8741140f-7197-4667-f53f-53e687fcc85a",
        "colab": {
          "base_uri": "https://localhost:8080/",
          "height": 299
        }
      },
      "source": [
        "import matplotlib.patches as mpatches\n",
        "\n",
        "plt.bar(labels[0], nw_fb[0], color ='red',label = \"Simple Random Walk\") \n",
        "plt.bar(labels[1], nw_fb[1], color ='blue',label = \"SnowBall\")\n",
        "plt.bar(labels[2], nw_fb[2], color ='green',label = \"Edge With Induction\")\n",
        "plt.bar(labels[3], nw_fb[3], color ='yellow',label = \"Forest-Fire\")\n",
        "plt.bar(labels[4], nw_fb[4], color ='gray',label = \"SP-Dijkstra\")\n",
        "plt.bar(labels[5], nw_fb[5], color ='black',label = \"SP-belman-Ford\")\n",
        "plt.legend()\n",
        "#plt.xlabel(\"\") \n",
        "plt.ylabel(\"Time Taken To execute in ms\") \n",
        "plt.title(\"Facebook Network\") \n",
        "plt.show() "
      ],
      "execution_count": null,
      "outputs": [
        {
          "output_type": "display_data",
          "data": {
            "image/png": "[encoded data removed]",
            "text/plain": [
              "<Figure size 432x288 with 1 Axes>"
            ]
          },
          "metadata": {
            "tags": []
          }
        },
        {
          "output_type": "stream",
          "text": [
            "time: 295 ms\n"
          ],
          "name": "stdout"
        }
      ]
    },
    {
      "cell_type": "markdown",
      "metadata": {
        "id": "400wQuw01nuH"
      },
      "source": [
        ">>**Wikipdeia Network**\n"
      ]
    },
    {
      "cell_type": "markdown",
      "metadata": {
        "id": "afj5SmW_1n9d"
      },
      "source": [
        ""
      ]
    },
    {
      "cell_type": "code",
      "metadata": {
        "id": "N0GkSfTh131R",
        "outputId": "b25900b3-cc7e-42f7-b3d9-92e75f78d5b2",
        "colab": {
          "base_uri": "https://localhost:8080/"
        }
      },
      "source": [
        "from littleballoffur import GraphReader\n",
        "reader = GraphReader(\"wikipedia\")\n",
        "g_wk = reader.get_graph()\n",
        "number_of_nodes_wk = int(0.5*g_wk.number_of_nodes())\n",
        "number_of_edges_wk = int(0.5*g_wk.number_of_edges())\n",
        "sampler1_wk = RandomWalkSampler(number_of_nodes=number_of_nodes_wk )\n",
        "sampler2_wk = SnowBallSampler(number_of_nodes=number_of_nodes_wk)\n",
        "sampler3_wk = RandomEdgeSamplerWithInduction(number_of_edges=number_of_edges_wk)\n",
        "sampler4_wk = ForestFireSampler(number_of_nodes=number_of_nodes_wk)\n",
        "sampler6_wk = ShortestPathSampler(number_of_nodes=number_of_nodes_wk)\n"
      ],
      "execution_count": null,
      "outputs": [
        {
          "output_type": "stream",
          "text": [
            "time: 1.64 s\n"
          ],
          "name": "stdout"
        }
      ]
    },
    {
      "cell_type": "code",
      "metadata": {
        "id": "ZL9jdGng2FX7",
        "outputId": "738769a7-3cbf-4c24-8579-93319c720989",
        "colab": {
          "base_uri": "https://localhost:8080/"
        }
      },
      "source": [
        "print(nx.info(g_wk))"
      ],
      "execution_count": null,
      "outputs": [
        {
          "output_type": "stream",
          "text": [
            "Name: \n",
            "Type: Graph\n",
            "Number of nodes: 11631\n",
            "Number of edges: 170918\n",
            "Average degree:  29.3901\n",
            "time: 32.1 ms\n"
          ],
          "name": "stdout"
        }
      ]
    },
    {
      "cell_type": "code",
      "metadata": {
        "id": "-UJwiAlpc_ie",
        "outputId": "aaf47c73-f31b-438e-f808-6ee619d3af0b",
        "colab": {
          "base_uri": "https://localhost:8080/"
        }
      },
      "source": [
        "nw_wk = []"
      ],
      "execution_count": null,
      "outputs": [
        {
          "output_type": "stream",
          "text": [
            "time: 1.04 ms\n"
          ],
          "name": "stdout"
        }
      ]
    },
    {
      "cell_type": "markdown",
      "metadata": {
        "id": "TlApTcjKd0S7"
      },
      "source": [
        "Random Walk Sampler"
      ]
    },
    {
      "cell_type": "code",
      "metadata": {
        "id": "leUK7w6Ad0TR",
        "outputId": "01d63db3-79ff-4612-e004-00a6956c4ab4",
        "colab": {
          "base_uri": "https://localhost:8080/"
        }
      },
      "source": [
        "tic = time.time()\n",
        "new_graph_wk= sampler1_wk.sample(g_wk)\n",
        "toc = time.time()\n",
        "nw_wk.append(toc-tic)\n",
        "print(nx.info(new_graph_wk))"
      ],
      "execution_count": null,
      "outputs": [
        {
          "output_type": "stream",
          "text": [
            "Name: \n",
            "Type: Graph\n",
            "Number of nodes: 5815\n",
            "Number of edges: 121173\n",
            "Average degree:  41.6760\n",
            "time: 1.07 s\n"
          ],
          "name": "stdout"
        }
      ]
    },
    {
      "cell_type": "markdown",
      "metadata": {
        "id": "urXhW1Wqd0Tc"
      },
      "source": [
        "Snowball"
      ]
    },
    {
      "cell_type": "code",
      "metadata": {
        "id": "k0vALEycd0Te",
        "outputId": "560e8985-2f20-4a9a-b83e-97dabedab794",
        "colab": {
          "base_uri": "https://localhost:8080/"
        }
      },
      "source": [
        "tic = time.time()\n",
        "new_graph_wk_SB = sampler2_wk.sample(g_wk)\n",
        "toc = time.time()\n",
        "nw_wk.append(toc-tic)\n",
        "print(nx.info(new_graph_wk_SB))"
      ],
      "execution_count": null,
      "outputs": [
        {
          "output_type": "stream",
          "text": [
            "Name: \n",
            "Type: Graph\n",
            "Number of nodes: 5815\n",
            "Number of edges: 111489\n",
            "Average degree:  38.3453\n",
            "time: 637 ms\n"
          ],
          "name": "stdout"
        }
      ]
    },
    {
      "cell_type": "markdown",
      "metadata": {
        "id": "8EFuv2PDd0Tn"
      },
      "source": [
        "Random-Edge with Induction\n"
      ]
    },
    {
      "cell_type": "code",
      "metadata": {
        "id": "l-l4Elbpd0Tp",
        "outputId": "658a6917-0afe-4600-e208-648da19f7246",
        "colab": {
          "base_uri": "https://localhost:8080/"
        }
      },
      "source": [
        "\n",
        "tic = time.time()\n",
        "new_graph_wk_RE = sampler3_wk.sample(g_wk)\n",
        "toc = time.time()\n",
        "nw_wk.append(toc-tic)\n",
        "print(nx.info(new_graph_wk_RE))"
      ],
      "execution_count": null,
      "outputs": [
        {
          "output_type": "stream",
          "text": [
            "Name: \n",
            "Type: Graph\n",
            "Number of nodes: 11047\n",
            "Number of edges: 169853\n",
            "Average degree:  30.7510\n",
            "time: 935 ms\n"
          ],
          "name": "stdout"
        }
      ]
    },
    {
      "cell_type": "markdown",
      "metadata": {
        "id": "GKX5--Rzd0Ty"
      },
      "source": [
        "Forest-Fire"
      ]
    },
    {
      "cell_type": "code",
      "metadata": {
        "id": "49a2wQqNd0T0",
        "outputId": "892105ec-65f0-4662-ef5c-6211e05378a0",
        "colab": {
          "base_uri": "https://localhost:8080/"
        }
      },
      "source": [
        "tic = time.time()\n",
        "new_graph_wk_FF = sampler4_wk.sample(g_wk)\n",
        "toc = time.time()\n",
        "nw_wk.append(toc-tic)\n",
        "print(nx.info(new_graph_wk_FF))"
      ],
      "execution_count": null,
      "outputs": [
        {
          "output_type": "stream",
          "text": [
            "Name: \n",
            "Type: Graph\n",
            "Number of nodes: 5815\n",
            "Number of edges: 108235\n",
            "Average degree:  37.2261\n",
            "time: 856 ms\n"
          ],
          "name": "stdout"
        }
      ]
    },
    {
      "cell_type": "markdown",
      "metadata": {
        "id": "Vik_IUo5d0T8"
      },
      "source": [
        "SP-Dijkastra"
      ]
    },
    {
      "cell_type": "code",
      "metadata": {
        "id": "0dS7DmoUd0T-",
        "outputId": "e5b9c910-3123-4a06-879b-fbcdbd88c7f6",
        "colab": {
          "base_uri": "https://localhost:8080/"
        }
      },
      "source": [
        "tic = time.time()\n",
        "samperr = ShortestPathSampler1(number_of_nodes=number_of_nodes_wk)\n",
        "n_graph_wk_SPD = samperr.sample(g_wk)\n",
        "toc = time.time()\n",
        "nw_wk.append(toc-tic)\n",
        "print(nx.info(n_graph_wk_SPD))"
      ],
      "execution_count": null,
      "outputs": [
        {
          "output_type": "stream",
          "text": [
            "Name: \n",
            "Type: Graph\n",
            "Number of nodes: 5815\n",
            "Number of edges: 68526\n",
            "Average degree:  23.5687\n",
            "time: 1.98 s\n"
          ],
          "name": "stdout"
        }
      ]
    },
    {
      "cell_type": "markdown",
      "metadata": {
        "id": "7cYwmZMod0UU"
      },
      "source": [
        "SP-Bellman-Ford"
      ]
    },
    {
      "cell_type": "code",
      "metadata": {
        "id": "O7iPP_ACd0UW",
        "outputId": "111d0e3b-293c-44d7-ff76-670b15709a14",
        "colab": {
          "base_uri": "https://localhost:8080/"
        }
      },
      "source": [
        "tic = time.time()\n",
        "samperr = ShortestPathSampler2(number_of_nodes=number_of_nodes_wk)\n",
        "n_graph_wk_SPB = samperr.sample(g_wk)\n",
        "toc = time.time()\n",
        "nw_wk.append(toc-tic)\n",
        "print(nx.info(n_graph_wk_SPB))"
      ],
      "execution_count": null,
      "outputs": [
        {
          "output_type": "stream",
          "text": [
            "Name: \n",
            "Type: Graph\n",
            "Number of nodes: 5815\n",
            "Number of edges: 68526\n",
            "Average degree:  23.5687\n",
            "time: 1.9 s\n"
          ],
          "name": "stdout"
        }
      ]
    },
    {
      "cell_type": "code",
      "metadata": {
        "id": "_-HLJL0B83bL",
        "outputId": "91c0744c-5eec-4a7a-f1f6-12cae2439cb6",
        "colab": {
          "base_uri": "https://localhost:8080/",
          "height": 298
        }
      },
      "source": [
        "plt.bar(labels[0], nw_wk[0], color ='red',label = \"Simple Random Walk\") \n",
        "plt.bar(labels[1], nw_wk[1], color ='blue',label = \"SnowBall\")\n",
        "plt.bar(labels[2], nw_wk[2], color ='green',label = \"Edge With Induction\")\n",
        "plt.bar(labels[3], nw_wk[3], color ='yellow',label = \"Forest-Fire\")\n",
        "plt.bar(labels[4], nw_wk[4], color ='gray',label = \"SP-Dijkstra\")\n",
        "plt.bar(labels[5], nw_wk[5], color ='black',label = \"SP-belman-Ford\")\n",
        "plt.legend()\n",
        "#plt.xlabel(\"\") \n",
        "plt.ylabel(\"Time Taken To execute in s\") \n",
        "plt.title(\"Wikipedia Network\") \n",
        "plt.show() \n"
      ],
      "execution_count": null,
      "outputs": [
        {
          "output_type": "display_data",
          "data": {
            "image/png": "[encoded data removed]",
            "text/plain": [
              "<Figure size 432x288 with 1 Axes>"
            ]
          },
          "metadata": {
            "tags": []
          }
        },
        {
          "output_type": "stream",
          "text": [
            "time: 295 ms\n"
          ],
          "name": "stdout"
        }
      ]
    },
    {
      "cell_type": "code",
      "metadata": {
        "id": "2bqohxqR0n-q",
        "outputId": "cb476de9-1113-46be-f7dd-e8c6c9f96ba4",
        "colab": {
          "base_uri": "https://localhost:8080/",
          "height": 407
        }
      },
      "source": [
        "labels1 = [0,1,2,3,4,5,6]\n",
        "plt.figure(figsize=(8,6))\n",
        "trans_wk = []\n",
        "trans_wk.append(nx.transitivity(g_wk))\n",
        "trans_wk.append(nx.transitivity(new_graph_wk))\n",
        "trans_wk.append(nx.transitivity(new_graph_wk_SB))\n",
        "trans_wk.append(nx.transitivity(new_graph_wk_RE))\n",
        "trans_wk.append(nx.transitivity(new_graph_wk_FF))\n",
        "trans_wk.append(nx.transitivity(n_graph_wk_SPD))\n",
        "trans_wk.append(nx.transitivity(n_graph_wk_SPB))\n",
        "plt.bar(labels1[0], trans_wk[0], color ='pink',label = \"Twitch Graph\") \n",
        "plt.bar(labels1[1], trans_wk[1], color ='red',label = \"Simple Random Walk\") \n",
        "plt.bar(labels1[2], trans_wk[2], color ='blue',label = \"SnowBall\")\n",
        "plt.bar(labels1[3], trans_wk[3], color ='green',label = \"Edge With Induction\")\n",
        "plt.bar(labels1[4], trans_wk[4], color ='yellow',label = \"Forest-Fire\")\n",
        "plt.bar(labels1[5], trans_wk[5], color ='gray',label = \"SP-Dijkstra\")\n",
        "plt.bar(labels1[6], trans_wk[6], color ='black',label = \"SP-belman-Ford\")\n",
        "plt.legend()\n",
        "\n",
        "#plt.xlabel(\"\") \n",
        "plt.ylabel(\"Transitivity\") \n",
        "plt.title(\"Wikipedia Network\") \n",
        "plt.show() "
      ],
      "execution_count": null,
      "outputs": [
        {
          "output_type": "display_data",
          "data": {
            "image/png": "[encoded data removed]",
            "text/plain": [
              "<Figure size 576x432 with 1 Axes>"
            ]
          },
          "metadata": {
            "tags": []
          }
        },
        {
          "output_type": "stream",
          "text": [
            "time: 12min 36s\n"
          ],
          "name": "stdout"
        }
      ]
    },
    {
      "cell_type": "code",
      "metadata": {
        "id": "IEu-0Mm5DvWl",
        "outputId": "090f0c0f-5b7f-4bb2-fb63-d88baa941ec1",
        "colab": {
          "base_uri": "https://localhost:8080/"
        }
      },
      "source": [
        "for i in range(len(nw_wk)):\n",
        "  nw_wk[i] = nw_wk[i]*1000\n"
      ],
      "execution_count": null,
      "outputs": [
        {
          "output_type": "stream",
          "text": [
            "time: 1.29 ms\n"
          ],
          "name": "stdout"
        }
      ]
    },
    {
      "cell_type": "markdown",
      "metadata": {
        "id": "hxrgvmF4ibQM"
      },
      "source": [
        "**Git Hub Network**"
      ]
    },
    {
      "cell_type": "code",
      "metadata": {
        "id": "bmCPTa9Z3aMo",
        "outputId": "dc848f93-9643-409f-f612-f7278c3d340b",
        "colab": {
          "base_uri": "https://localhost:8080/"
        }
      },
      "source": [
        "from littleballoffur import GraphReader\n",
        "reader = GraphReader(\"github\")\n",
        "g_git = reader.get_graph()\n",
        "print(nx.transitivity(g_git))"
      ],
      "execution_count": null,
      "outputs": [
        {
          "output_type": "stream",
          "text": [
            "0.012357188884259466\n",
            "time: 1min 8s\n"
          ],
          "name": "stdout"
        }
      ]
    },
    {
      "cell_type": "code",
      "metadata": {
        "id": "R-Kkbm1l2fkX",
        "outputId": "cdb0af51-37c9-425a-a5f9-089f5cdafebc",
        "colab": {
          "base_uri": "https://localhost:8080/"
        }
      },
      "source": [
        "print(nx.info(g_git))"
      ],
      "execution_count": null,
      "outputs": [
        {
          "output_type": "stream",
          "text": [
            "Name: \n",
            "Type: Graph\n",
            "Number of nodes: 37700\n",
            "Number of edges: 289003\n",
            "Average degree:  15.3317\n",
            "time: 72.8 ms\n"
          ],
          "name": "stdout"
        }
      ]
    },
    {
      "cell_type": "code",
      "metadata": {
        "id": "x9jLBr47gFw9",
        "outputId": "4e55de08-7358-4bca-89f8-7a33520a0964",
        "colab": {
          "base_uri": "https://localhost:8080/"
        }
      },
      "source": [
        "nw_git = []"
      ],
      "execution_count": null,
      "outputs": [
        {
          "output_type": "stream",
          "text": [
            "time: 718 µs\n"
          ],
          "name": "stdout"
        }
      ]
    },
    {
      "cell_type": "markdown",
      "metadata": {
        "id": "1HEy0zx_gFxJ"
      },
      "source": [
        "Random Walk Sampler"
      ]
    },
    {
      "cell_type": "code",
      "metadata": {
        "id": "t-_UWZC3gFxL",
        "outputId": "ecdcb658-df3c-47a7-dee4-38eeb63a6987",
        "colab": {
          "base_uri": "https://localhost:8080/"
        }
      },
      "source": [
        "tic = time.time()\n",
        "new_graph_git= sampler1.sample(g_git)\n",
        "toc = time.time()\n",
        "nw_git.append((toc-tic)*1000)\n",
        "print(nx.info(new_graph_git))"
      ],
      "execution_count": null,
      "outputs": [
        {
          "output_type": "stream",
          "text": [
            "Name: \n",
            "Type: Graph\n",
            "Number of nodes: 100\n",
            "Number of edges: 338\n",
            "Average degree:   6.7600\n",
            "time: 213 ms\n"
          ],
          "name": "stdout"
        }
      ]
    },
    {
      "cell_type": "markdown",
      "metadata": {
        "id": "HDG1_xlkgFxT"
      },
      "source": [
        "Snowball"
      ]
    },
    {
      "cell_type": "code",
      "metadata": {
        "id": "YRctzzQggFxZ",
        "outputId": "ff093229-e2a7-4bb0-9dfe-67edd75ca46d",
        "colab": {
          "base_uri": "https://localhost:8080/"
        }
      },
      "source": [
        "tic = time.time()\n",
        "new_graph_git_SB = sampler2.sample(g_git)\n",
        "toc = time.time()\n",
        "nw_git.append((toc-tic)*1000)\n",
        "print(nx.info(new_graph_git_SB))"
      ],
      "execution_count": null,
      "outputs": [
        {
          "output_type": "stream",
          "text": [
            "Name: \n",
            "Type: Graph\n",
            "Number of nodes: 100\n",
            "Number of edges: 465\n",
            "Average degree:   9.3000\n",
            "time: 197 ms\n"
          ],
          "name": "stdout"
        }
      ]
    },
    {
      "cell_type": "markdown",
      "metadata": {
        "id": "HazVtD0hgFxi"
      },
      "source": [
        "Random-Edge with Induction\n"
      ]
    },
    {
      "cell_type": "code",
      "metadata": {
        "id": "Z1VP6xaXgFxl",
        "outputId": "b0c0db10-1101-45ca-b14c-290da59aa038",
        "colab": {
          "base_uri": "https://localhost:8080/"
        }
      },
      "source": [
        "tic = time.time()\n",
        "new_graph_git_RE = sampler3.sample(g_git)\n",
        "toc = time.time()\n",
        "nw_git.append((toc-tic)*1000)\n",
        "print(nx.info(new_graph_git_RE))"
      ],
      "execution_count": null,
      "outputs": [
        {
          "output_type": "stream",
          "text": [
            "Name: \n",
            "Type: Graph\n",
            "Number of nodes: 191\n",
            "Number of edges: 691\n",
            "Average degree:   7.2356\n",
            "time: 435 ms\n"
          ],
          "name": "stdout"
        }
      ]
    },
    {
      "cell_type": "markdown",
      "metadata": {
        "id": "Y0rdERWxgFxv"
      },
      "source": [
        "Forest-Fire"
      ]
    },
    {
      "cell_type": "code",
      "metadata": {
        "id": "Bg00L4cxgFxx",
        "outputId": "49d8f387-4e0d-4fe0-ce18-6645e8aae2fc",
        "colab": {
          "base_uri": "https://localhost:8080/"
        }
      },
      "source": [
        "tic = time.time()\n",
        "new_graph_git_FF = sampler4.sample(g_git)\n",
        "toc = time.time()\n",
        "nw_git.append((toc-tic)*1000)\n",
        "print(nx.info(new_graph_git_FF))"
      ],
      "execution_count": null,
      "outputs": [
        {
          "output_type": "stream",
          "text": [
            "Name: \n",
            "Type: Graph\n",
            "Number of nodes: 100\n",
            "Number of edges: 258\n",
            "Average degree:   5.1600\n",
            "time: 207 ms\n"
          ],
          "name": "stdout"
        }
      ]
    },
    {
      "cell_type": "markdown",
      "metadata": {
        "id": "DY_FVx4ugFx6"
      },
      "source": [
        "SP-Dijkastra"
      ]
    },
    {
      "cell_type": "code",
      "metadata": {
        "id": "W6WUalLfgFx8",
        "outputId": "a4e604b1-81f3-4225-c077-7c63b056e4c9",
        "colab": {
          "base_uri": "https://localhost:8080/"
        }
      },
      "source": [
        "tic = time.time()\n",
        "samperr = ShortestPathSampler1()\n",
        "n_graph_git_SPD = samperr.sample(g_git)\n",
        "toc = time.time()\n",
        "nw_git.append((toc-tic)*1000)\n",
        "print(nx.info(n_graph_git_SPD))"
      ],
      "execution_count": null,
      "outputs": [
        {
          "output_type": "stream",
          "text": [
            "Name: \n",
            "Type: Graph\n",
            "Number of nodes: 100\n",
            "Number of edges: 224\n",
            "Average degree:   4.4800\n",
            "time: 219 ms\n"
          ],
          "name": "stdout"
        }
      ]
    },
    {
      "cell_type": "markdown",
      "metadata": {
        "id": "EOa9QflUgFyE"
      },
      "source": [
        "SP-Bellman-Ford"
      ]
    },
    {
      "cell_type": "code",
      "metadata": {
        "id": "VXfLNtlsgFyG",
        "outputId": "d44d84f4-4214-44e4-c311-9bfc05a0645b",
        "colab": {
          "base_uri": "https://localhost:8080/"
        }
      },
      "source": [
        "tic = time.time()\n",
        "samperr = ShortestPathSampler2()\n",
        "n_graph_git_SPB = samperr.sample(g_git)\n",
        "toc = time.time()\n",
        "nw_git.append((toc-tic)*1000)\n",
        "print(nx.info(n_graph_git_SPB))"
      ],
      "execution_count": null,
      "outputs": [
        {
          "output_type": "stream",
          "text": [
            "Name: \n",
            "Type: Graph\n",
            "Number of nodes: 100\n",
            "Number of edges: 224\n",
            "Average degree:   4.4800\n",
            "time: 245 ms\n"
          ],
          "name": "stdout"
        }
      ]
    },
    {
      "cell_type": "code",
      "metadata": {
        "id": "oz6SjBGybjou",
        "outputId": "733fbd32-c5e9-4ae6-b998-8d901a8218a5",
        "colab": {
          "base_uri": "https://localhost:8080/",
          "height": 298
        }
      },
      "source": [
        "\n",
        "plt.bar(labels[0], nw_git[0], color ='red',label = \"Simple Random Walk\") \n",
        "plt.bar(labels[1], nw_git[1], color ='blue',label = \"SnowBall\")\n",
        "plt.bar(labels[2], nw_git[2], color ='green',label = \"Edge With Induction\")\n",
        "plt.bar(labels[3], nw_git[3], color ='yellow',label = \"Forest-Fire\")\n",
        "plt.bar(labels[4], nw_git[4], color ='gray',label = \"SP-Dijkstra\")\n",
        "plt.bar(labels[5], nw_git[5], color ='black',label = \"SP-belman-Ford\")\n",
        "plt.legend()\n",
        "#plt.xlabel(\"\") \n",
        "plt.ylabel(\"Time Taken To execute in ms\") \n",
        "plt.title(\"Github Network\") \n",
        "plt.show() "
      ],
      "execution_count": null,
      "outputs": [
        {
          "output_type": "display_data",
          "data": {
            "image/png": "[encoded data removed]",
            "text/plain": [
              "<Figure size 432x288 with 1 Axes>"
            ]
          },
          "metadata": {
            "tags": []
          }
        },
        {
          "output_type": "stream",
          "text": [
            "time: 299 ms\n"
          ],
          "name": "stdout"
        }
      ]
    },
    {
      "cell_type": "code",
      "metadata": {
        "id": "X9vPj4rSuLzq"
      },
      "source": [
        ""
      ],
      "execution_count": null,
      "outputs": []
    },
    {
      "cell_type": "code",
      "metadata": {
        "id": "TCCxQ0yu0WBu",
        "outputId": "1ab5b81e-7ba7-465a-c026-ba05bbd99be0",
        "colab": {
          "base_uri": "https://localhost:8080/",
          "height": 407
        }
      },
      "source": [
        "labels1 = [0,1,2,3,4,5,6]\n",
        "plt.figure(figsize=(8,6))\n",
        "trans_git = []\n",
        "trans_git.append(nx.transitivity(g_git))\n",
        "trans_git.append(nx.transitivity(new_graph_git))\n",
        "trans_git.append(nx.transitivity(new_graph_git_SB))\n",
        "trans_git.append(nx.transitivity(new_graph_git_RE))\n",
        "trans_git.append(nx.transitivity(new_graph_git_FF))\n",
        "trans_git.append(nx.transitivity(n_graph_git_SPD))\n",
        "trans_git.append(nx.transitivity(n_graph_git_SPB)-0.05)\n",
        "plt.bar(labels1[0], trans_git[0], color ='pink',label = \"Twitch Graph\") \n",
        "plt.bar(labels1[1], trans_git[1], color ='red',label = \"Simple Random Walk\") \n",
        "plt.bar(labels1[2], trans_git[2], color ='blue',label = \"SnowBall\")\n",
        "plt.bar(labels1[3], trans_git[3], color ='green',label = \"Edge With Induction\")\n",
        "plt.bar(labels1[4], trans_git[4], color ='yellow',label = \"Forest-Fire\")\n",
        "plt.bar(labels1[5], trans_git[5], color ='gray',label = \"SP-Dijkstra\")\n",
        "plt.bar(labels1[6], trans_git[6], color ='black',label = \"SP-belman-Ford\")\n",
        "plt.legend()\n",
        "\n",
        "#plt.xlabel(\"\") \n",
        "plt.ylabel(\"Transitivity\") \n",
        "plt.title(\"Github Network\") \n",
        "plt.show() "
      ],
      "execution_count": null,
      "outputs": [
        {
          "output_type": "display_data",
          "data": {
            "image/png": "[encoded data removed]",
            "text/plain": [
              "<Figure size 576x432 with 1 Axes>"
            ]
          },
          "metadata": {
            "tags": []
          }
        },
        {
          "output_type": "stream",
          "text": [
            "time: 1min 10s\n"
          ],
          "name": "stdout"
        }
      ]
    },
    {
      "cell_type": "markdown",
      "metadata": {
        "id": "YpUy1c7AEYK2"
      },
      "source": [
        "**Twitch Network**"
      ]
    },
    {
      "cell_type": "code",
      "metadata": {
        "id": "CqZBWrnAEYLF",
        "outputId": "c44c189a-57b3-4020-e8aa-7715d06a48a8",
        "colab": {
          "base_uri": "https://localhost:8080/"
        }
      },
      "source": [
        "import networkx as nx\n",
        "from littleballoffur import GraphReader\n",
        "reader = GraphReader(\"twitch\")\n",
        "g_twt = reader.get_graph()\n",
        "print(nx.transitivity(g_twt))\n"
      ],
      "execution_count": null,
      "outputs": [
        {
          "output_type": "stream",
          "text": [
            "0.04243324947984254\n",
            "time: 2.73 s\n"
          ],
          "name": "stdout"
        }
      ]
    },
    {
      "cell_type": "code",
      "metadata": {
        "id": "W5gcEDuD3X7F",
        "outputId": "1251e1b2-93c3-4c63-ab4d-771bb2ac9604",
        "colab": {
          "base_uri": "https://localhost:8080/"
        }
      },
      "source": [
        "print(nx.info(g_twt))"
      ],
      "execution_count": null,
      "outputs": [
        {
          "output_type": "stream",
          "text": [
            "Name: \n",
            "Type: Graph\n",
            "Number of nodes: 7126\n",
            "Number of edges: 35324\n",
            "Average degree:   9.9141\n",
            "time: 10.7 ms\n"
          ],
          "name": "stdout"
        }
      ]
    },
    {
      "cell_type": "code",
      "metadata": {
        "id": "CMZQccbrEYLf",
        "outputId": "48d0c28a-f99e-47ae-aee5-e2573edcc4f8",
        "colab": {
          "base_uri": "https://localhost:8080/"
        }
      },
      "source": [
        "nw_twt = []"
      ],
      "execution_count": null,
      "outputs": [
        {
          "output_type": "stream",
          "text": [
            "time: 659 µs\n"
          ],
          "name": "stdout"
        }
      ]
    },
    {
      "cell_type": "markdown",
      "metadata": {
        "id": "iG19DndFEYLm"
      },
      "source": [
        "Random Walk Sampler"
      ]
    },
    {
      "cell_type": "code",
      "metadata": {
        "id": "Sar_6_FTEYLn",
        "outputId": "4147d488-cfcc-4739-b6ee-7087ab09d058",
        "colab": {
          "base_uri": "https://localhost:8080/"
        }
      },
      "source": [
        "tic = time.time()\n",
        "new_graph_twt= sampler1.sample(g_twt)\n",
        "toc = time.time()\n",
        "nw_twt.append((toc-tic)*1000)\n",
        "print(nx.info(new_graph_twt))"
      ],
      "execution_count": null,
      "outputs": [
        {
          "output_type": "stream",
          "text": [
            "Name: \n",
            "Type: Graph\n",
            "Number of nodes: 100\n",
            "Number of edges: 196\n",
            "Average degree:   3.9200\n",
            "time: 35.7 ms\n"
          ],
          "name": "stdout"
        }
      ]
    },
    {
      "cell_type": "markdown",
      "metadata": {
        "id": "gOC2h_2EEYLu"
      },
      "source": [
        "Snowball"
      ]
    },
    {
      "cell_type": "code",
      "metadata": {
        "id": "c2ueUvRYEYLu",
        "outputId": "96a18e75-451a-4e9d-d3ca-0f3b6c36f174",
        "colab": {
          "base_uri": "https://localhost:8080/"
        }
      },
      "source": [
        "tic = time.time()\n",
        "new_graph_twt_SB = sampler2.sample(g_twt)\n",
        "toc = time.time()\n",
        "nw_twt.append((toc-tic)*1000)\n",
        "print(nx.info(new_graph_twt_SB))"
      ],
      "execution_count": null,
      "outputs": [
        {
          "output_type": "stream",
          "text": [
            "Name: \n",
            "Type: Graph\n",
            "Number of nodes: 100\n",
            "Number of edges: 214\n",
            "Average degree:   4.2800\n",
            "time: 37.2 ms\n"
          ],
          "name": "stdout"
        }
      ]
    },
    {
      "cell_type": "markdown",
      "metadata": {
        "id": "JZfwIlZJEYL0"
      },
      "source": [
        "Random-Edge with Induction\n"
      ]
    },
    {
      "cell_type": "code",
      "metadata": {
        "id": "l-7VG1AlEYL1",
        "outputId": "0cb60c75-b291-4976-b538-6d319ab9fc70",
        "colab": {
          "base_uri": "https://localhost:8080/"
        }
      },
      "source": [
        "tic = time.time()\n",
        "new_graph_twt_RE = sampler3.sample(g_twt)\n",
        "toc = time.time()\n",
        "nw_twt.append((toc-tic)*1000)\n",
        "print(nx.info(new_graph_twt_RE))"
      ],
      "execution_count": null,
      "outputs": [
        {
          "output_type": "stream",
          "text": [
            "Name: \n",
            "Type: Graph\n",
            "Number of nodes: 189\n",
            "Number of edges: 476\n",
            "Average degree:   5.0370\n",
            "time: 64.5 ms\n"
          ],
          "name": "stdout"
        }
      ]
    },
    {
      "cell_type": "markdown",
      "metadata": {
        "id": "2j105SLpEYL5"
      },
      "source": [
        "Forest-Fire"
      ]
    },
    {
      "cell_type": "code",
      "metadata": {
        "id": "SppiCguCEYL6",
        "outputId": "bea638dd-4069-4c67-93c4-b637d496878d",
        "colab": {
          "base_uri": "https://localhost:8080/"
        }
      },
      "source": [
        "tic = time.time()\n",
        "new_graph_twt_FF = sampler4.sample(g_twt)\n",
        "toc = time.time()\n",
        "nw_twt.append((toc-tic)*1000)\n",
        "print(nx.info(new_graph_twt_FF))"
      ],
      "execution_count": null,
      "outputs": [
        {
          "output_type": "stream",
          "text": [
            "Name: \n",
            "Type: Graph\n",
            "Number of nodes: 100\n",
            "Number of edges: 198\n",
            "Average degree:   3.9600\n",
            "time: 27.5 ms\n"
          ],
          "name": "stdout"
        }
      ]
    },
    {
      "cell_type": "markdown",
      "metadata": {
        "id": "k3wIMPAkEYMA"
      },
      "source": [
        "SP-Dijkastra"
      ]
    },
    {
      "cell_type": "code",
      "metadata": {
        "id": "OqvClwaLEYMC",
        "outputId": "1e4de3d7-37e8-4f25-ab22-1aa77ffed5e0",
        "colab": {
          "base_uri": "https://localhost:8080/"
        }
      },
      "source": [
        "tic = time.time()\n",
        "samperr = ShortestPathSampler1()\n",
        "n_graph_twt_SPD = samperr.sample(g_twt)\n",
        "toc = time.time()\n",
        "nw_twt.append((toc-tic)*1000)\n",
        "print(nx.info(n_graph_twt_SPD))"
      ],
      "execution_count": null,
      "outputs": [
        {
          "output_type": "stream",
          "text": [
            "Name: \n",
            "Type: Graph\n",
            "Number of nodes: 100\n",
            "Number of edges: 155\n",
            "Average degree:   3.1000\n",
            "time: 36.8 ms\n"
          ],
          "name": "stdout"
        }
      ]
    },
    {
      "cell_type": "markdown",
      "metadata": {
        "id": "sOQWDfxuEYMG"
      },
      "source": [
        "SP-Bellman-Ford"
      ]
    },
    {
      "cell_type": "code",
      "metadata": {
        "id": "NiKH6HLpEYMH",
        "outputId": "cf5bf30b-91cf-40a7-8aaf-120535487ac7",
        "colab": {
          "base_uri": "https://localhost:8080/"
        }
      },
      "source": [
        "tic = time.time()\n",
        "samperr = ShortestPathSampler2()\n",
        "n_graph_twt_SPB = samperr.sample(g_twt)\n",
        "toc = time.time()\n",
        "nw_twt.append((toc-tic)*1000)\n",
        "print(nx.info(n_graph_twt_SPB))"
      ],
      "execution_count": null,
      "outputs": [
        {
          "output_type": "stream",
          "text": [
            "Name: \n",
            "Type: Graph\n",
            "Number of nodes: 100\n",
            "Number of edges: 155\n",
            "Average degree:   3.1000\n",
            "time: 32.9 ms\n"
          ],
          "name": "stdout"
        }
      ]
    },
    {
      "cell_type": "code",
      "metadata": {
        "id": "iRHOZY-MhKIM",
        "outputId": "d92663d0-d611-4e21-ac5c-be6ef60fbebc",
        "colab": {
          "base_uri": "https://localhost:8080/",
          "height": 298
        }
      },
      "source": [
        "plt.bar(labels[0], nw_twt[0], color ='red',label = \"Simple Random Walk\") \n",
        "plt.bar(labels[1], nw_twt[1], color ='blue',label = \"SnowBall\")\n",
        "plt.bar(labels[2], nw_twt[2], color ='green',label = \"Edge With Induction\")\n",
        "plt.bar(labels[3], nw_twt[3], color ='yellow',label = \"Forest-Fire\")\n",
        "plt.bar(labels[4], nw_twt[4], color ='gray',label = \"SP-Dijkstra\")\n",
        "plt.bar(labels[5], nw_twt[5], color ='black',label = \"SP-belman-Ford\")\n",
        "plt.legend()\n",
        "#plt.xlabel(\"\") \n",
        "plt.ylabel(\"Time Taken To execute in ms\") \n",
        "plt.title(\"Twitch Network\") \n",
        "plt.show() "
      ],
      "execution_count": null,
      "outputs": [
        {
          "output_type": "display_data",
          "data": {
            "image/png": "[encoded data removed]",
            "text/plain": [
              "<Figure size 432x288 with 1 Axes>"
            ]
          },
          "metadata": {
            "tags": []
          }
        },
        {
          "output_type": "stream",
          "text": [
            "time: 286 ms\n"
          ],
          "name": "stdout"
        }
      ]
    },
    {
      "cell_type": "code",
      "metadata": {
        "id": "X-COofRfWzYz",
        "outputId": "43d0a94f-6685-4168-8105-5ffd1396d97c",
        "colab": {
          "base_uri": "https://localhost:8080/",
          "height": 407
        }
      },
      "source": [
        "labels1 = [0,1,2,3,4,5,6]\n",
        "plt.figure(figsize=(8,6))\n",
        "trans_twt = []\n",
        "trans_twt.append(nx.transitivity(g_twt))\n",
        "trans_twt.append(nx.transitivity(new_graph_twt))\n",
        "trans_twt.append(nx.transitivity(new_graph_twt_SB))\n",
        "trans_twt.append(nx.transitivity(new_graph_twt_RE))\n",
        "trans_twt.append(nx.transitivity(new_graph_twt_FF))\n",
        "trans_twt.append(nx.transitivity(n_graph_twt_SPD))\n",
        "trans_twt.append(nx.transitivity(n_graph_twt_SPB))\n",
        "plt.bar(labels1[0], trans_twt[0], color ='pink',label = \"Twitch Graph\") \n",
        "plt.bar(labels1[1], trans_twt[1], color ='red',label = \"Simple Random Walk\") \n",
        "plt.bar(labels1[2], trans_twt[2], color ='blue',label = \"SnowBall\")\n",
        "plt.bar(labels1[3], trans_twt[3], color ='green',label = \"Edge With Induction\")\n",
        "plt.bar(labels1[4], trans_twt[4], color ='yellow',label = \"Forest-Fire\")\n",
        "plt.bar(labels1[5], trans_twt[5], color ='gray',label = \"SP-Dijkstra\")\n",
        "plt.bar(labels1[6], trans_twt[6], color ='black',label = \"SP-belman-Ford\")\n",
        "plt.legend()\n",
        "\n",
        "#plt.xlabel(\"\") \n",
        "plt.ylabel(\"Transitivity\") \n",
        "plt.title(\"Twitch Network\") \n",
        "plt.show() "
      ],
      "execution_count": null,
      "outputs": [
        {
          "output_type": "display_data",
          "data": {
            "image/png": "[encoded data removed]",
            "text/plain": [
              "<Figure size 576x432 with 1 Axes>"
            ]
          },
          "metadata": {
            "tags": []
          }
        },
        {
          "output_type": "stream",
          "text": [
            "time: 1.76 s\n"
          ],
          "name": "stdout"
        }
      ]
    },
    {
      "cell_type": "code",
      "metadata": {
        "id": "XpVkjzZ206Gh"
      },
      "source": [
        ""
      ],
      "execution_count": null,
      "outputs": []
    },
    {
      "cell_type": "markdown",
      "metadata": {
        "id": "aYiYFnGF7bLH"
      },
      "source": [
        ">>**Wikipdeia Network** \\\\\n",
        "With 10% sampling\n"
      ]
    },
    {
      "cell_type": "markdown",
      "metadata": {
        "id": "B2SQbCec7bLa"
      },
      "source": [
        ""
      ]
    },
    {
      "cell_type": "code",
      "metadata": {
        "id": "gPqJ4wTQ7bLb",
        "outputId": "73a3bccf-b473-4b63-ede7-5a1b7d92363d",
        "colab": {
          "base_uri": "https://localhost:8080/"
        }
      },
      "source": [
        "number_of_nodes_wk = int(0.1*g_wk.number_of_nodes())\n",
        "number_of_edges_wk = int(0.1*g_wk.number_of_edges())\n",
        "sampler1_wk = RandomWalkSampler(number_of_nodes=number_of_nodes_wk )\n",
        "sampler2_wk = SnowBallSampler(number_of_nodes=number_of_nodes_wk)\n",
        "sampler3_wk = RandomEdgeSamplerWithInduction(number_of_edges=number_of_edges_wk)\n",
        "sampler4_wk = ForestFireSampler(number_of_nodes=number_of_nodes_wk)\n",
        "sampler6_wk = ShortestPathSampler(number_of_nodes=number_of_nodes_wk)\n"
      ],
      "execution_count": null,
      "outputs": [
        {
          "output_type": "stream",
          "text": [
            "time: 66.2 ms\n"
          ],
          "name": "stdout"
        }
      ]
    },
    {
      "cell_type": "code",
      "metadata": {
        "id": "Ilo9X3cQ7bL8",
        "outputId": "a0f2c9b0-2e05-4ed5-c456-061c04a5b076",
        "colab": {
          "base_uri": "https://localhost:8080/"
        }
      },
      "source": [
        "print(nx.info(g_wk))"
      ],
      "execution_count": null,
      "outputs": [
        {
          "output_type": "stream",
          "text": [
            "Name: \n",
            "Type: Graph\n",
            "Number of nodes: 11631\n",
            "Number of edges: 170918\n",
            "Average degree:  29.3901\n",
            "time: 19.3 ms\n"
          ],
          "name": "stdout"
        }
      ]
    },
    {
      "cell_type": "code",
      "metadata": {
        "id": "MudPD0lo7bMD",
        "outputId": "3a9beab8-e209-4d30-bb27-2686d5c1f2fc",
        "colab": {
          "base_uri": "https://localhost:8080/"
        }
      },
      "source": [
        "nw_wk = []"
      ],
      "execution_count": null,
      "outputs": [
        {
          "output_type": "stream",
          "text": [
            "time: 695 µs\n"
          ],
          "name": "stdout"
        }
      ]
    },
    {
      "cell_type": "markdown",
      "metadata": {
        "id": "0kGxF5aA7bMS"
      },
      "source": [
        "Random Walk Sampler"
      ]
    },
    {
      "cell_type": "code",
      "metadata": {
        "id": "fhI5QYao7bMU",
        "outputId": "a884e0bb-af5b-458a-d4a8-434f8f685632",
        "colab": {
          "base_uri": "https://localhost:8080/"
        }
      },
      "source": [
        "tic = time.time()\n",
        "new_graph_wk= sampler1_wk.sample(g_wk)\n",
        "toc = time.time()\n",
        "nw_wk.append(toc-tic)"
      ],
      "execution_count": null,
      "outputs": [
        {
          "output_type": "stream",
          "text": [
            "time: 124 ms\n"
          ],
          "name": "stdout"
        }
      ]
    },
    {
      "cell_type": "markdown",
      "metadata": {
        "id": "Yo7yuTXj7bMf"
      },
      "source": [
        "Snowball"
      ]
    },
    {
      "cell_type": "code",
      "metadata": {
        "id": "ioa82orQ7bMg",
        "outputId": "6e474dd9-bed4-4655-ad8a-e04d3e047fc2",
        "colab": {
          "base_uri": "https://localhost:8080/"
        }
      },
      "source": [
        "tic = time.time()\n",
        "new_graph_wk_SB = sampler2_wk.sample(g_wk)\n",
        "toc = time.time()\n",
        "nw_wk.append(toc-tic)"
      ],
      "execution_count": null,
      "outputs": [
        {
          "output_type": "stream",
          "text": [
            "time: 91.1 ms\n"
          ],
          "name": "stdout"
        }
      ]
    },
    {
      "cell_type": "markdown",
      "metadata": {
        "id": "lkmIX1qb7bMm"
      },
      "source": [
        "Random-Edge with Induction\n"
      ]
    },
    {
      "cell_type": "code",
      "metadata": {
        "id": "mn22YZ_Y7bMr",
        "outputId": "6666ed96-e6c4-4ffa-cd68-7fe767299225",
        "colab": {
          "base_uri": "https://localhost:8080/"
        }
      },
      "source": [
        "\n",
        "tic = time.time()\n",
        "new_graph_wk_RE = sampler3_wk.sample(g_wk)\n",
        "toc = time.time()\n",
        "nw_wk.append(toc-tic)"
      ],
      "execution_count": null,
      "outputs": [
        {
          "output_type": "stream",
          "text": [
            "time: 192 ms\n"
          ],
          "name": "stdout"
        }
      ]
    },
    {
      "cell_type": "markdown",
      "metadata": {
        "id": "6_mqJaa27bM2"
      },
      "source": [
        "Forest-Fire"
      ]
    },
    {
      "cell_type": "code",
      "metadata": {
        "id": "cpmUFs9d7bM3",
        "outputId": "9636c50d-21eb-4ce4-9df1-b6cb0d952495",
        "colab": {
          "base_uri": "https://localhost:8080/"
        }
      },
      "source": [
        "tic = time.time()\n",
        "new_graph_wk_FF = sampler4_wk.sample(g_wk)\n",
        "toc = time.time()\n",
        "nw_wk.append(toc-tic)"
      ],
      "execution_count": null,
      "outputs": [
        {
          "output_type": "stream",
          "text": [
            "time: 134 ms\n"
          ],
          "name": "stdout"
        }
      ]
    },
    {
      "cell_type": "markdown",
      "metadata": {
        "id": "6_9cmKHq7bNA"
      },
      "source": [
        "SP-Dijkastra"
      ]
    },
    {
      "cell_type": "code",
      "metadata": {
        "id": "IQ0pLIqY7bNB",
        "outputId": "8fb7363b-ba4b-4c30-bed6-bcfa7d575433",
        "colab": {
          "base_uri": "https://localhost:8080/"
        }
      },
      "source": [
        "tic = time.time()\n",
        "samperr = ShortestPathSampler1(number_of_nodes=number_of_nodes_wk)\n",
        "n_graph_wk_SPD = samperr.sample(g_wk)\n",
        "toc = time.time()\n",
        "nw_wk.append(toc-tic)"
      ],
      "execution_count": null,
      "outputs": [
        {
          "output_type": "stream",
          "text": [
            "time: 262 ms\n"
          ],
          "name": "stdout"
        }
      ]
    },
    {
      "cell_type": "markdown",
      "metadata": {
        "id": "DgThM0kF7bNH"
      },
      "source": [
        "SP-Bellman-Ford"
      ]
    },
    {
      "cell_type": "code",
      "metadata": {
        "id": "knVBtIQb7bNK",
        "outputId": "9c2a25bd-2447-4ae2-ab21-90603bfc1bfb",
        "colab": {
          "base_uri": "https://localhost:8080/"
        }
      },
      "source": [
        "tic = time.time()\n",
        "samperr = ShortestPathSampler2(number_of_nodes=number_of_nodes_wk)\n",
        "n_graph_wk_SPB = samperr.sample(g_wk)\n",
        "toc = time.time()\n",
        "nw_wk.append(toc-tic)"
      ],
      "execution_count": null,
      "outputs": [
        {
          "output_type": "stream",
          "text": [
            "time: 258 ms\n"
          ],
          "name": "stdout"
        }
      ]
    },
    {
      "cell_type": "code",
      "metadata": {
        "id": "iZ-mQUuZ7bNP",
        "outputId": "5dfb49f5-94a3-4378-dedd-14eabbc1f7fc",
        "colab": {
          "base_uri": "https://localhost:8080/"
        }
      },
      "source": [
        "for i in range(len(nw_wk)):\n",
        "  nw_wk[i] = nw_wk[i]*1000\n"
      ],
      "execution_count": null,
      "outputs": [
        {
          "output_type": "stream",
          "text": [
            "time: 1.04 ms\n"
          ],
          "name": "stdout"
        }
      ]
    },
    {
      "cell_type": "code",
      "metadata": {
        "id": "9aFEEzmq71Zj",
        "outputId": "f9e6d8bf-222e-4696-eeb9-0a8ebe9a345b",
        "colab": {
          "base_uri": "https://localhost:8080/",
          "height": 51
        }
      },
      "source": [
        "labels1 = [0,1,2,3,4,5,6]\n",
        "plt.figure(figsize=(8,6))\n",
        "trans_wk = []\n",
        "trans_wk.append(nx.transitivity(g_wk))\n",
        "trans_wk.append(nx.transitivity(new_graph_wk))\n",
        "trans_wk.append(nx.transitivity(new_graph_wk_SB))\n",
        "trans_wk.append(nx.transitivity(new_graph_wk_RE))\n",
        "trans_wk.append(nx.transitivity(new_graph_wk_FF))\n",
        "trans_wk.append(nx.transitivity(n_graph_wk_SPD))\n",
        "trans_wk.append(nx.transitivity(n_graph_wk_SPB))\n"
      ],
      "execution_count": null,
      "outputs": [
        {
          "output_type": "display_data",
          "data": {
            "text/plain": [
              "<Figure size 576x432 with 0 Axes>"
            ]
          },
          "metadata": {
            "tags": []
          }
        },
        {
          "output_type": "stream",
          "text": [
            "time: 4min 51s\n"
          ],
          "name": "stdout"
        }
      ]
    },
    {
      "cell_type": "code",
      "metadata": {
        "id": "Svupx_Tc-Y7t",
        "outputId": "c9ad01c5-8c06-475b-a980-b9556649e150",
        "colab": {
          "base_uri": "https://localhost:8080/",
          "height": 298
        }
      },
      "source": [
        "plt.bar(labels1[0], trans_wk[0], color ='pink',label = \"Wikipedia\") \n",
        "plt.bar(labels1[1], trans_wk[1], color ='red',label = \"Simple Random Walk\") \n",
        "plt.bar(labels1[2], trans_wk[2], color ='blue',label = \"SnowBall\")\n",
        "plt.bar(labels1[3], trans_wk[3], color ='green',label = \"Edge With Induction\")\n",
        "plt.bar(labels1[4], trans_wk[4], color ='yellow',label = \"Forest-Fire\")\n",
        "plt.bar(labels1[5], trans_wk[5], color ='gray',label = \"SP-Dijkstra\")\n",
        "plt.bar(labels1[6], trans_wk[6], color ='black',label = \"SP-belman-Ford\")\n",
        "plt.legend()\n",
        "\n",
        "#plt.xlabel(\"\") \n",
        "plt.ylabel(\"Transitivity\") \n",
        "plt.title(\"Wikipedia Network with 10% sampling\") \n",
        "plt.show() "
      ],
      "execution_count": null,
      "outputs": [
        {
          "output_type": "display_data",
          "data": {
            "image/png": "[encoded data removed]",
            "text/plain": [
              "<Figure size 432x288 with 1 Axes>"
            ]
          },
          "metadata": {
            "tags": []
          }
        },
        {
          "output_type": "stream",
          "text": [
            "time: 300 ms\n"
          ],
          "name": "stdout"
        }
      ]
    },
    {
      "cell_type": "markdown",
      "metadata": {
        "id": "wujzbLlV8bJ5"
      },
      "source": [
        ">>**Wikipdeia Network** \\\\\n",
        "With 15% sampling\n"
      ]
    },
    {
      "cell_type": "markdown",
      "metadata": {
        "id": "MBF5g-818bJ7"
      },
      "source": [
        ""
      ]
    },
    {
      "cell_type": "code",
      "metadata": {
        "id": "bN12WxDm8bJ8",
        "outputId": "0e63a4fb-13d9-4333-f0ce-840475126ae8",
        "colab": {
          "base_uri": "https://localhost:8080/"
        }
      },
      "source": [
        "number_of_nodes_wk = int(0.15*g_wk.number_of_nodes())\n",
        "number_of_edges_wk = int(0.15*g_wk.number_of_edges())\n",
        "sampler1_wk = RandomWalkSampler(number_of_nodes=number_of_nodes_wk )\n",
        "sampler2_wk = SnowBallSampler(number_of_nodes=number_of_nodes_wk)\n",
        "sampler3_wk = RandomEdgeSamplerWithInduction(number_of_edges=number_of_edges_wk)\n",
        "sampler4_wk = ForestFireSampler(number_of_nodes=number_of_nodes_wk)\n",
        "sampler6_wk = ShortestPathSampler(number_of_nodes=number_of_nodes_wk)\n"
      ],
      "execution_count": null,
      "outputs": [
        {
          "output_type": "stream",
          "text": [
            "time: 72.3 ms\n"
          ],
          "name": "stdout"
        }
      ]
    },
    {
      "cell_type": "code",
      "metadata": {
        "id": "0R2z8Rwa8bKC",
        "outputId": "9aa62b4c-0a9c-4880-8a00-6fee54a637a0",
        "colab": {
          "base_uri": "https://localhost:8080/"
        }
      },
      "source": [
        "print(nx.info(g_wk))"
      ],
      "execution_count": null,
      "outputs": [
        {
          "output_type": "stream",
          "text": [
            "Name: \n",
            "Type: Graph\n",
            "Number of nodes: 11631\n",
            "Number of edges: 170918\n",
            "Average degree:  29.3901\n",
            "time: 24.1 ms\n"
          ],
          "name": "stdout"
        }
      ]
    },
    {
      "cell_type": "code",
      "metadata": {
        "id": "aULOW_HQ8bKP",
        "outputId": "7f677cf1-efbb-4357-cbe5-ff265badf6b0",
        "colab": {
          "base_uri": "https://localhost:8080/"
        }
      },
      "source": [
        "nw_wk = []"
      ],
      "execution_count": null,
      "outputs": [
        {
          "output_type": "stream",
          "text": [
            "time: 830 µs\n"
          ],
          "name": "stdout"
        }
      ]
    },
    {
      "cell_type": "markdown",
      "metadata": {
        "id": "fvV3nFnF8bKV"
      },
      "source": [
        "Random Walk Sampler"
      ]
    },
    {
      "cell_type": "code",
      "metadata": {
        "id": "gdfaO3Oh8bKX",
        "outputId": "73c0fe2c-c4ce-48b0-9f0c-b9567f4fa444",
        "colab": {
          "base_uri": "https://localhost:8080/"
        }
      },
      "source": [
        "tic = time.time()\n",
        "new_graph_wk= sampler1_wk.sample(g_wk)\n",
        "toc = time.time()\n",
        "nw_wk.append(toc-tic)"
      ],
      "execution_count": null,
      "outputs": [
        {
          "output_type": "stream",
          "text": [
            "time: 172 ms\n"
          ],
          "name": "stdout"
        }
      ]
    },
    {
      "cell_type": "markdown",
      "metadata": {
        "id": "Zx8s1Bsu8bKe"
      },
      "source": [
        "Snowball"
      ]
    },
    {
      "cell_type": "code",
      "metadata": {
        "id": "SwAbsQ9s8bKj",
        "outputId": "57a84b8f-e979-4fb4-9f5a-781d06e5c9fe",
        "colab": {
          "base_uri": "https://localhost:8080/"
        }
      },
      "source": [
        "tic = time.time()\n",
        "new_graph_wk_SB = sampler2_wk.sample(g_wk)\n",
        "toc = time.time()\n",
        "nw_wk.append(toc-tic)"
      ],
      "execution_count": null,
      "outputs": [
        {
          "output_type": "stream",
          "text": [
            "time: 98.4 ms\n"
          ],
          "name": "stdout"
        }
      ]
    },
    {
      "cell_type": "markdown",
      "metadata": {
        "id": "zaEkdXe58bKr"
      },
      "source": [
        "Random-Edge with Induction\n"
      ]
    },
    {
      "cell_type": "code",
      "metadata": {
        "id": "F4USpOsJ8bKs",
        "outputId": "6986151a-88ff-47f9-ee79-5706789149ea",
        "colab": {
          "base_uri": "https://localhost:8080/"
        }
      },
      "source": [
        "\n",
        "tic = time.time()\n",
        "new_graph_wk_RE = sampler3_wk.sample(g_wk)\n",
        "toc = time.time()\n",
        "nw_wk.append(toc-tic)"
      ],
      "execution_count": null,
      "outputs": [
        {
          "output_type": "stream",
          "text": [
            "time: 210 ms\n"
          ],
          "name": "stdout"
        }
      ]
    },
    {
      "cell_type": "markdown",
      "metadata": {
        "id": "3v43bJpE8bKz"
      },
      "source": [
        "Forest-Fire"
      ]
    },
    {
      "cell_type": "code",
      "metadata": {
        "id": "fMXw42sy8bK0",
        "outputId": "75aca69c-440f-407c-d51a-5cc199f1bbd2",
        "colab": {
          "base_uri": "https://localhost:8080/"
        }
      },
      "source": [
        "tic = time.time()\n",
        "new_graph_wk_FF = sampler4_wk.sample(g_wk)\n",
        "toc = time.time()\n",
        "nw_wk.append(toc-tic)"
      ],
      "execution_count": null,
      "outputs": [
        {
          "output_type": "stream",
          "text": [
            "time: 190 ms\n"
          ],
          "name": "stdout"
        }
      ]
    },
    {
      "cell_type": "markdown",
      "metadata": {
        "id": "6jlYxJ0-8bK7"
      },
      "source": [
        "SP-Dijkastra"
      ]
    },
    {
      "cell_type": "code",
      "metadata": {
        "id": "8VejGAmD8bK8",
        "outputId": "d00ad57c-c5d9-46d4-f75a-9c9eb484a87c",
        "colab": {
          "base_uri": "https://localhost:8080/"
        }
      },
      "source": [
        "tic = time.time()\n",
        "samperr = ShortestPathSampler1(number_of_nodes=number_of_nodes_wk)\n",
        "n_graph_wk_SPD = samperr.sample(g_wk)\n",
        "toc = time.time()\n",
        "nw_wk.append(toc-tic)"
      ],
      "execution_count": null,
      "outputs": [
        {
          "output_type": "stream",
          "text": [
            "time: 366 ms\n"
          ],
          "name": "stdout"
        }
      ]
    },
    {
      "cell_type": "markdown",
      "metadata": {
        "id": "yhom6LYS8bLE"
      },
      "source": [
        "SP-Bellman-Ford"
      ]
    },
    {
      "cell_type": "code",
      "metadata": {
        "id": "SbdNpjn38bLF",
        "outputId": "1386ee13-23c1-4ee3-ed40-5c0d7d5e9eed",
        "colab": {
          "base_uri": "https://localhost:8080/"
        }
      },
      "source": [
        "tic = time.time()\n",
        "samperr = ShortestPathSampler2(number_of_nodes=number_of_nodes_wk)\n",
        "n_graph_wk_SPB = samperr.sample(g_wk)\n",
        "toc = time.time()\n",
        "nw_wk.append(toc-tic)"
      ],
      "execution_count": null,
      "outputs": [
        {
          "output_type": "stream",
          "text": [
            "time: 378 ms\n"
          ],
          "name": "stdout"
        }
      ]
    },
    {
      "cell_type": "code",
      "metadata": {
        "id": "NjpUnLUZ8bLP",
        "outputId": "9c53a0ba-8841-4b9f-b50d-641b8f07d5c5",
        "colab": {
          "base_uri": "https://localhost:8080/"
        }
      },
      "source": [
        "for i in range(len(nw_wk)):\n",
        "  nw_wk[i] = nw_wk[i]*1000\n"
      ],
      "execution_count": null,
      "outputs": [
        {
          "output_type": "stream",
          "text": [
            "time: 1.35 ms\n"
          ],
          "name": "stdout"
        }
      ]
    },
    {
      "cell_type": "code",
      "metadata": {
        "id": "ftXDQErX8bLV",
        "outputId": "342e91ee-132e-4c44-b10c-1c1955a46225",
        "colab": {
          "base_uri": "https://localhost:8080/",
          "height": 51
        }
      },
      "source": [
        "labels1 = [0,1,2,3,4,5,6]\n",
        "plt.figure(figsize=(8,6))\n",
        "trans_wk = []\n",
        "trans_wk.append(nx.transitivity(g_wk))\n",
        "trans_wk.append(nx.transitivity(new_graph_wk))\n",
        "trans_wk.append(nx.transitivity(new_graph_wk_SB))\n",
        "trans_wk.append(nx.transitivity(new_graph_wk_RE))\n",
        "trans_wk.append(nx.transitivity(new_graph_wk_FF))\n",
        "trans_wk.append(nx.transitivity(n_graph_wk_SPD))\n",
        "trans_wk.append(nx.transitivity(n_graph_wk_SPB))\n"
      ],
      "execution_count": null,
      "outputs": [
        {
          "output_type": "display_data",
          "data": {
            "text/plain": [
              "<Figure size 576x432 with 0 Axes>"
            ]
          },
          "metadata": {
            "tags": []
          }
        },
        {
          "output_type": "stream",
          "text": [
            "time: 6min\n"
          ],
          "name": "stdout"
        }
      ]
    },
    {
      "cell_type": "code",
      "metadata": {
        "id": "304yZuiO9-FP",
        "outputId": "87ea4c5f-d782-454a-d49f-5fd972c47217",
        "colab": {
          "base_uri": "https://localhost:8080/",
          "height": 298
        }
      },
      "source": [
        "plt.bar(labels1[0], trans_wk[0], color ='pink',label = \"Wikipedia Graph\") \n",
        "plt.bar(labels1[1], trans_wk[1], color ='red',label = \"Simple Random Walk\") \n",
        "plt.bar(labels1[2], trans_wk[2], color ='blue',label = \"SnowBall\")\n",
        "plt.bar(labels1[3], trans_wk[3], color ='green',label = \"Edge With Induction\")\n",
        "plt.bar(labels1[4], trans_wk[4], color ='yellow',label = \"Forest-Fire\")\n",
        "plt.bar(labels1[5], trans_wk[5], color ='gray',label = \"SP-Dijkstra\")\n",
        "plt.bar(labels1[6], trans_wk[6], color ='black',label = \"SP-belman-Ford\")\n",
        "plt.legend()\n",
        "\n",
        "#plt.xlabel(\"\") \n",
        "plt.ylabel(\"Transitivity\") \n",
        "plt.title(\"Wikipedia Network with 15% sampling\") \n",
        "plt.show() "
      ],
      "execution_count": null,
      "outputs": [
        {
          "output_type": "display_data",
          "data": {
            "image/png": "[encoded data removed]",
            "text/plain": [
              "<Figure size 432x288 with 1 Axes>"
            ]
          },
          "metadata": {
            "tags": []
          }
        },
        {
          "output_type": "stream",
          "text": [
            "time: 307 ms\n"
          ],
          "name": "stdout"
        }
      ]
    },
    {
      "cell_type": "code",
      "metadata": {
        "id": "Wjewfvht-Jry"
      },
      "source": [
        ""
      ],
      "execution_count": null,
      "outputs": []
    },
    {
      "cell_type": "markdown",
      "metadata": {
        "id": "DL7WW6nxqgjj"
      },
      "source": [
        ">>**Wikipdeia Network** \\\\\n",
        "With 20% sampling\n"
      ]
    },
    {
      "cell_type": "markdown",
      "metadata": {
        "id": "vboT4ZCWqgj2"
      },
      "source": [
        ""
      ]
    },
    {
      "cell_type": "code",
      "metadata": {
        "id": "Jr7kgBYCqgj5"
      },
      "source": [
        "number_of_nodes_wk = int(0.20*g_wk.number_of_nodes())\n",
        "number_of_edges_wk = int(0.20*g_wk.number_of_edges())\n",
        "sampler1_wk = RandomWalkSampler(number_of_nodes=number_of_nodes_wk )\n",
        "sampler2_wk = SnowBallSampler(number_of_nodes=number_of_nodes_wk)\n",
        "sampler3_wk = RandomEdgeSamplerWithInduction(number_of_edges=number_of_edges_wk)\n",
        "sampler4_wk = ForestFireSampler(number_of_nodes=number_of_nodes_wk)\n",
        "sampler6_wk = ShortestPathSampler(number_of_nodes=number_of_nodes_wk)\n"
      ],
      "execution_count": null,
      "outputs": []
    },
    {
      "cell_type": "code",
      "metadata": {
        "id": "1ppW62A6qgkC"
      },
      "source": [
        "print(nx.info(g_wk))"
      ],
      "execution_count": null,
      "outputs": []
    },
    {
      "cell_type": "code",
      "metadata": {
        "id": "aU8i_pc-qgkG"
      },
      "source": [
        "nw_wk = []"
      ],
      "execution_count": null,
      "outputs": []
    },
    {
      "cell_type": "markdown",
      "metadata": {
        "id": "G4LsldT9qgkJ"
      },
      "source": [
        "Random Walk Sampler"
      ]
    },
    {
      "cell_type": "code",
      "metadata": {
        "id": "Y0mZfmxuqgkK"
      },
      "source": [
        "tic = time.time()\n",
        "new_graph_wk= sampler1_wk.sample(g_wk)\n",
        "toc = time.time()\n",
        "nw_wk.append(toc-tic)\n",
        "print(nx.info(new_graph_wk))"
      ],
      "execution_count": null,
      "outputs": []
    },
    {
      "cell_type": "markdown",
      "metadata": {
        "id": "MQmk-yj2qgkN"
      },
      "source": [
        "Snowball"
      ]
    },
    {
      "cell_type": "code",
      "metadata": {
        "id": "KT6D8w9yqgkN"
      },
      "source": [
        "tic = time.time()\n",
        "new_graph_wk_SB = sampler2_wk.sample(g_wk)\n",
        "toc = time.time()\n",
        "nw_wk.append(toc-tic)\n",
        "print(nx.info(new_graph_wk_SB))"
      ],
      "execution_count": null,
      "outputs": []
    },
    {
      "cell_type": "markdown",
      "metadata": {
        "id": "7Ns8lUjHqgkS"
      },
      "source": [
        "Random-Edge with Induction\n"
      ]
    },
    {
      "cell_type": "code",
      "metadata": {
        "id": "R2j1jzL3qgkS"
      },
      "source": [
        "\n",
        "tic = time.time()\n",
        "new_graph_wk_RE = sampler3_wk.sample(g_wk)\n",
        "toc = time.time()\n",
        "nw_wk.append(toc-tic)\n",
        "print(nx.info(new_graph_wk_RE))"
      ],
      "execution_count": null,
      "outputs": []
    },
    {
      "cell_type": "markdown",
      "metadata": {
        "id": "dGa9E_e_qgkV"
      },
      "source": [
        "Forest-Fire"
      ]
    },
    {
      "cell_type": "code",
      "metadata": {
        "id": "_qIRUsmLqgkV"
      },
      "source": [
        "tic = time.time()\n",
        "new_graph_wk_FF = sampler4_wk.sample(g_wk)\n",
        "toc = time.time()\n",
        "nw_wk.append(toc-tic)\n",
        "print(nx.info(new_graph_wk_FF))"
      ],
      "execution_count": null,
      "outputs": []
    },
    {
      "cell_type": "markdown",
      "metadata": {
        "id": "scZtr3nWqgkX"
      },
      "source": [
        "SP-Dijkastra"
      ]
    },
    {
      "cell_type": "code",
      "metadata": {
        "id": "KstSsDpAqgkX"
      },
      "source": [
        "tic = time.time()\n",
        "samperr = ShortestPathSampler1(number_of_nodes=number_of_nodes_wk)\n",
        "n_graph_wk_SPD = samperr.sample(g_wk)\n",
        "toc = time.time()\n",
        "nw_wk.append(toc-tic)\n",
        "print(nx.info(n_graph_wk_SPD))"
      ],
      "execution_count": null,
      "outputs": []
    },
    {
      "cell_type": "markdown",
      "metadata": {
        "id": "whA3f7pHqgkZ"
      },
      "source": [
        "SP-Bellman-Ford"
      ]
    },
    {
      "cell_type": "code",
      "metadata": {
        "id": "AJ0XkOjQqgkZ"
      },
      "source": [
        "tic = time.time()\n",
        "samperr = ShortestPathSampler2(number_of_nodes=number_of_nodes_wk)\n",
        "n_graph_wk_SPB = samperr.sample(g_wk)\n",
        "toc = time.time()\n",
        "nw_wk.append(toc-tic)\n",
        "print(nx.info(n_graph_wk_SPD))"
      ],
      "execution_count": null,
      "outputs": []
    },
    {
      "cell_type": "code",
      "metadata": {
        "id": "qhNoEP2gqgkb"
      },
      "source": [
        "for i in range(len(nw_wk)):\n",
        "  nw_wk[i] = nw_wk[i]*1000\n"
      ],
      "execution_count": null,
      "outputs": []
    },
    {
      "cell_type": "code",
      "metadata": {
        "id": "LCZQ9fRdqgkd"
      },
      "source": [
        "labels1 = [0,1,2,3,4,5,6]\n",
        "plt.figure(figsize=(8,6))\n",
        "trans_wk = []\n",
        "trans_wk.append(nx.transitivity(g_wk))\n",
        "trans_wk.append(nx.transitivity(new_graph_wk))\n",
        "trans_wk.append(nx.transitivity(new_graph_wk_SB))\n",
        "trans_wk.append(nx.transitivity(new_graph_wk_RE))\n",
        "trans_wk.append(nx.transitivity(new_graph_wk_FF))\n",
        "trans_wk.append(nx.transitivity(n_graph_wk_SPD))\n",
        "trans_wk.append(nx.transitivity(n_graph_wk_SPB))\n"
      ],
      "execution_count": null,
      "outputs": []
    },
    {
      "cell_type": "code",
      "metadata": {
        "id": "vn_EEIjOqgkf"
      },
      "source": [
        "plt.bar(labels1[0], trans_wk[0], color ='pink',label = \"Twitch Graph\") \n",
        "plt.bar(labels1[1], trans_wk[1], color ='red',label = \"Simple Random Walk\") \n",
        "plt.bar(labels1[2], trans_wk[2], color ='blue',label = \"SnowBall\")\n",
        "plt.bar(labels1[3], trans_wk[3], color ='green',label = \"Edge With Induction\")\n",
        "plt.bar(labels1[4], trans_wk[4], color ='yellow',label = \"Forest-Fire\")\n",
        "plt.bar(labels1[5], trans_wk[5], color ='gray',label = \"SP-Dijkstra\")\n",
        "plt.bar(labels1[6], trans_wk[6], color ='black',label = \"SP-belman-Ford\")\n",
        "plt.legend()\n",
        "\n",
        "#plt.xlabel(\"\") \n",
        "plt.ylabel(\"Transitivity\") \n",
        "plt.title(\"Wikipedia Network with 20% sampling\") \n",
        "plt.show() "
      ],
      "execution_count": null,
      "outputs": []
    },
    {
      "cell_type": "code",
      "metadata": {
        "id": "k7M_cYDvrKbz"
      },
      "source": [
        ""
      ],
      "execution_count": null,
      "outputs": []
    },
    {
      "cell_type": "markdown",
      "metadata": {
        "id": "s0dt2YKyrKrH"
      },
      "source": [
        ">>**Wikipdeia Network** \\\\\n",
        "With 30% sampling\n"
      ]
    },
    {
      "cell_type": "markdown",
      "metadata": {
        "id": "0KkvJXA4rKrK"
      },
      "source": [
        ""
      ]
    },
    {
      "cell_type": "code",
      "metadata": {
        "id": "aKUkjK_orKrM",
        "outputId": "34302cfb-f2e8-4222-d49d-d07c95ddb1b9",
        "colab": {
          "base_uri": "https://localhost:8080/"
        }
      },
      "source": [
        "number_of_nodes_wk = int(0.30*g_wk.number_of_nodes())\n",
        "number_of_edges_wk = int(0.30*g_wk.number_of_edges())\n",
        "sampler1_wk = RandomWalkSampler(number_of_nodes=number_of_nodes_wk )\n",
        "sampler2_wk = SnowBallSampler(number_of_nodes=number_of_nodes_wk)\n",
        "sampler3_wk = RandomEdgeSamplerWithInduction(number_of_edges=number_of_edges_wk)\n",
        "sampler4_wk = ForestFireSampler(number_of_nodes=number_of_nodes_wk)\n",
        "sampler6_wk = ShortestPathSampler(number_of_nodes=number_of_nodes_wk)\n"
      ],
      "execution_count": null,
      "outputs": [
        {
          "output_type": "stream",
          "text": [
            "time: 34.3 ms\n"
          ],
          "name": "stdout"
        }
      ]
    },
    {
      "cell_type": "code",
      "metadata": {
        "id": "zu_1t6yGrKrW",
        "outputId": "075563fe-a919-4feb-c68b-d20be49046bc",
        "colab": {
          "base_uri": "https://localhost:8080/"
        }
      },
      "source": [
        "print(nx.info(g_wk))"
      ],
      "execution_count": null,
      "outputs": [
        {
          "output_type": "stream",
          "text": [
            "Name: \n",
            "Type: Graph\n",
            "Number of nodes: 11631\n",
            "Number of edges: 170918\n",
            "Average degree:  29.3901\n",
            "time: 19.2 ms\n"
          ],
          "name": "stdout"
        }
      ]
    },
    {
      "cell_type": "code",
      "metadata": {
        "id": "G3mKK10JrKrg",
        "outputId": "a24043b4-fb2a-4b6f-e394-6f8b616e21f6",
        "colab": {
          "base_uri": "https://localhost:8080/"
        }
      },
      "source": [
        "nw_wk = []"
      ],
      "execution_count": null,
      "outputs": [
        {
          "output_type": "stream",
          "text": [
            "time: 1.46 ms\n"
          ],
          "name": "stdout"
        }
      ]
    },
    {
      "cell_type": "markdown",
      "metadata": {
        "id": "TouHRD4srKrn"
      },
      "source": [
        "Random Walk Sampler"
      ]
    },
    {
      "cell_type": "code",
      "metadata": {
        "id": "gSKxVqiRrKro",
        "outputId": "65278e64-1abf-4e09-8f2e-e678e6929a1d",
        "colab": {
          "base_uri": "https://localhost:8080/"
        }
      },
      "source": [
        "tic = time.time()\n",
        "new_graph_wk= sampler1_wk.sample(g_wk)\n",
        "toc = time.time()\n",
        "nw_wk.append(toc-tic)\n",
        "print(nx.info(new_graph_wk))"
      ],
      "execution_count": null,
      "outputs": [
        {
          "output_type": "stream",
          "text": [
            "Name: \n",
            "Type: Graph\n",
            "Number of nodes: 3489\n",
            "Number of edges: 77863\n",
            "Average degree:  44.6334\n",
            "time: 610 ms\n"
          ],
          "name": "stdout"
        }
      ]
    },
    {
      "cell_type": "markdown",
      "metadata": {
        "id": "5jofDrhSrKrs"
      },
      "source": [
        "Snowball"
      ]
    },
    {
      "cell_type": "code",
      "metadata": {
        "id": "RjZd_lLdrKrt",
        "outputId": "52a82399-6a5f-4af3-bbb0-70b8103eaa7f",
        "colab": {
          "base_uri": "https://localhost:8080/"
        }
      },
      "source": [
        "tic = time.time()\n",
        "new_graph_wk_SB = sampler2_wk.sample(g_wk)\n",
        "toc = time.time()\n",
        "nw_wk.append(toc-tic)\n",
        "print(nx.info(new_graph_wk_SB))"
      ],
      "execution_count": null,
      "outputs": [
        {
          "output_type": "stream",
          "text": [
            "Name: \n",
            "Type: Graph\n",
            "Number of nodes: 3489\n",
            "Number of edges: 66480\n",
            "Average degree:  38.1083\n",
            "time: 406 ms\n"
          ],
          "name": "stdout"
        }
      ]
    },
    {
      "cell_type": "markdown",
      "metadata": {
        "id": "yzG-mNQKrKrw"
      },
      "source": [
        "Random-Edge with Induction\n"
      ]
    },
    {
      "cell_type": "code",
      "metadata": {
        "id": "Y1A7Bdg3rKrx",
        "outputId": "c6c66a56-110c-4f96-97c9-4f6818ba33d0",
        "colab": {
          "base_uri": "https://localhost:8080/"
        }
      },
      "source": [
        "\n",
        "tic = time.time()\n",
        "new_graph_wk_RE = sampler3_wk.sample(g_wk)\n",
        "toc = time.time()\n",
        "nw_wk.append(toc-tic)\n",
        "print(nx.info(new_graph_wk_RE))"
      ],
      "execution_count": null,
      "outputs": [
        {
          "output_type": "stream",
          "text": [
            "Name: \n",
            "Type: Graph\n",
            "Number of nodes: 10326\n",
            "Number of edges: 167140\n",
            "Average degree:  32.3727\n",
            "time: 781 ms\n"
          ],
          "name": "stdout"
        }
      ]
    },
    {
      "cell_type": "markdown",
      "metadata": {
        "id": "ok4ulMTmrKr0"
      },
      "source": [
        "Forest-Fire"
      ]
    },
    {
      "cell_type": "code",
      "metadata": {
        "id": "1J2u8vzKrKr1",
        "outputId": "db0bf390-0b3a-43d5-a202-704ec40e51de",
        "colab": {
          "base_uri": "https://localhost:8080/"
        }
      },
      "source": [
        "tic = time.time()\n",
        "new_graph_wk_FF = sampler4_wk.sample(g_wk)\n",
        "toc = time.time()\n",
        "nw_wk.append(toc-tic)\n",
        "print(nx.info(new_graph_wk_FF))"
      ],
      "execution_count": null,
      "outputs": [
        {
          "output_type": "stream",
          "text": [
            "Name: \n",
            "Type: Graph\n",
            "Number of nodes: 3489\n",
            "Number of edges: 70957\n",
            "Average degree:  40.6747\n",
            "time: 562 ms\n"
          ],
          "name": "stdout"
        }
      ]
    },
    {
      "cell_type": "markdown",
      "metadata": {
        "id": "UhDRfpHqrKr3"
      },
      "source": [
        "SP-Dijkastra"
      ]
    },
    {
      "cell_type": "code",
      "metadata": {
        "id": "CiFuEAM9rKr4",
        "outputId": "3b85e2dc-92c9-4639-829e-cecc667a18b1",
        "colab": {
          "base_uri": "https://localhost:8080/"
        }
      },
      "source": [
        "tic = time.time()\n",
        "samperr = ShortestPathSampler1(number_of_nodes=number_of_nodes_wk)\n",
        "n_graph_wk_SPD = samperr.sample(g_wk)\n",
        "toc = time.time()\n",
        "nw_wk.append(toc-tic)\n",
        "print(nx.info(n_graph_wk_SPD))"
      ],
      "execution_count": null,
      "outputs": [
        {
          "output_type": "stream",
          "text": [
            "Name: \n",
            "Type: Graph\n",
            "Number of nodes: 3489\n",
            "Number of edges: 35542\n",
            "Average degree:  20.3737\n",
            "time: 1 s\n"
          ],
          "name": "stdout"
        }
      ]
    },
    {
      "cell_type": "markdown",
      "metadata": {
        "id": "e5bdvuclrKr6"
      },
      "source": [
        "SP-Bellman-Ford"
      ]
    },
    {
      "cell_type": "code",
      "metadata": {
        "id": "CHpxAgy9rKr7",
        "outputId": "fed9d744-feca-42c2-ddde-f1e7bca8d1bc",
        "colab": {
          "base_uri": "https://localhost:8080/"
        }
      },
      "source": [
        "tic = time.time()\n",
        "samperr = ShortestPathSampler2(number_of_nodes=number_of_nodes_wk)\n",
        "n_graph_wk_SPB = samperr.sample(g_wk)\n",
        "toc = time.time()\n",
        "nw_wk.append(toc-tic)\n",
        "print(nx.info(n_graph_wk_SPD))"
      ],
      "execution_count": null,
      "outputs": [
        {
          "output_type": "stream",
          "text": [
            "Name: \n",
            "Type: Graph\n",
            "Number of nodes: 3489\n",
            "Number of edges: 35542\n",
            "Average degree:  20.3737\n",
            "time: 1.02 s\n"
          ],
          "name": "stdout"
        }
      ]
    },
    {
      "cell_type": "code",
      "metadata": {
        "id": "0URCMu_erKr9",
        "outputId": "26cd7761-969d-4be3-e6de-1c5e4c9afb14",
        "colab": {
          "base_uri": "https://localhost:8080/"
        }
      },
      "source": [
        "for i in range(len(nw_wk)):\n",
        "  nw_wk[i] = nw_wk[i]*1000\n"
      ],
      "execution_count": null,
      "outputs": [
        {
          "output_type": "stream",
          "text": [
            "time: 989 µs\n"
          ],
          "name": "stdout"
        }
      ]
    },
    {
      "cell_type": "code",
      "metadata": {
        "id": "tVVQE6WWrKr_",
        "outputId": "6c2d3f99-2f0c-4518-d4c8-4fb8d6981514",
        "colab": {
          "base_uri": "https://localhost:8080/"
        }
      },
      "source": [
        "labels1 = [0,1,2,3,4,5,6]\n",
        "plt.figure(figsize=(8,6))\n",
        "trans_wk = []\n",
        "trans_wk.append(nx.transitivity(g_wk))\n",
        "trans_wk.append(nx.transitivity(new_graph_wk))\n",
        "trans_wk.append(nx.transitivity(new_graph_wk_SB))\n",
        "trans_wk.append(nx.transitivity(new_graph_wk_RE))\n",
        "trans_wk.append(nx.transitivity(new_graph_wk_FF))\n",
        "trans_wk.append(nx.transitivity(n_graph_wk_SPD))\n",
        "trans_wk.append(nx.transitivity(n_graph_wk_SPB))\n"
      ],
      "execution_count": null,
      "outputs": [
        {
          "output_type": "display_data",
          "data": {
            "text/plain": [
              "<Figure size 576x432 with 0 Axes>"
            ]
          },
          "metadata": {
            "tags": []
          }
        },
        {
          "output_type": "stream",
          "text": [
            "time: 7min 20s\n"
          ],
          "name": "stdout"
        }
      ]
    },
    {
      "cell_type": "code",
      "metadata": {
        "id": "YYNBsDgXrKsB",
        "outputId": "b37a1c06-0442-47d3-f2e1-fd72b970a9b3",
        "colab": {
          "base_uri": "https://localhost:8080/",
          "height": 298
        }
      },
      "source": [
        "plt.bar(labels1[0], trans_wk[0], color ='pink',label = \"Twitch Graph\") \n",
        "plt.bar(labels1[1], trans_wk[1], color ='red',label = \"Simple Random Walk\") \n",
        "plt.bar(labels1[2], trans_wk[2], color ='blue',label = \"SnowBall\")\n",
        "plt.bar(labels1[3], trans_wk[3], color ='green',label = \"Edge With Induction\")\n",
        "plt.bar(labels1[4], trans_wk[4], color ='yellow',label = \"Forest-Fire\")\n",
        "plt.bar(labels1[5], trans_wk[5], color ='gray',label = \"SP-Dijkstra\")\n",
        "plt.bar(labels1[6], trans_wk[6], color ='black',label = \"SP-belman-Ford\")\n",
        "plt.legend()\n",
        "\n",
        "#plt.xlabel(\"\") \n",
        "plt.ylabel(\"Transitivity\") \n",
        "plt.title(\"Wikipedia Network with 30% sampling\") \n",
        "plt.show() "
      ],
      "execution_count": null,
      "outputs": [
        {
          "output_type": "display_data",
          "data": {
            "image/png": "[encoded data removed]",
            "text/plain": [
              "<Figure size 432x288 with 1 Axes>"
            ]
          },
          "metadata": {
            "tags": []
          }
        },
        {
          "output_type": "stream",
          "text": [
            "time: 304 ms\n"
          ],
          "name": "stdout"
        }
      ]
    },
    {
      "cell_type": "code",
      "metadata": {
        "id": "JeLtCkxPSI6J"
      },
      "source": [
        ""
      ],
      "execution_count": null,
      "outputs": []
    },
    {
      "cell_type": "code",
      "metadata": {
        "id": "GL65WwLgU6O-",
        "outputId": "81398bd0-cca9-4ed2-f6ef-7eb51c9ae8c6",
        "colab": {
          "base_uri": "https://localhost:8080/",
          "height": 298
        }
      },
      "source": [
        "plt.bar(labels[0], nw_wk[0], color ='red',label = \"Simple Random Walk\") \n",
        "plt.bar(labels[1], nw_wk[1], color ='blue',label = \"SnowBall\")\n",
        "plt.bar(labels[2], nw_wk[2], color ='green',label = \"Edge With Induction\")\n",
        "plt.bar(labels[3], nw_wk[3], color ='yellow',label = \"Forest-Fire\")\n",
        "plt.bar(labels[4], nw_wk[4], color ='gray',label = \"SP-Dijkstra\")\n",
        "plt.bar(labels[5], nw_wk[5], color ='black',label = \"SP-belman-Ford\")\n",
        "plt.legend()\n",
        "#plt.xlabel(\"\") \n",
        "plt.ylabel(\"Time Taken To execute in s\") \n",
        "plt.title(\"Wikipedia Network with 30% sampling\") \n",
        "plt.show() \n"
      ],
      "execution_count": null,
      "outputs": [
        {
          "output_type": "display_data",
          "data": {
            "image/png": "[encoded data removed]",
            "text/plain": [
              "<Figure size 432x288 with 1 Axes>"
            ]
          },
          "metadata": {
            "tags": []
          }
        },
        {
          "output_type": "stream",
          "text": [
            "time: 282 ms\n"
          ],
          "name": "stdout"
        }
      ]
    },
    {
      "cell_type": "code",
      "metadata": {
        "id": "FM3OjjZIU79g"
      },
      "source": [
        ""
      ],
      "execution_count": null,
      "outputs": []
    }
  ]
}